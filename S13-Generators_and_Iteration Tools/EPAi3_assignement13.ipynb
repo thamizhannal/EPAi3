{
  "nbformat": 4,
  "nbformat_minor": 0,
  "metadata": {
    "colab": {
      "name": "EPAi3_assignement13.ipynb",
      "provenance": [],
      "collapsed_sections": []
    },
    "kernelspec": {
      "name": "python3",
      "display_name": "Python 3"
    },
    "language_info": {
      "name": "python"
    }
  },
  "cells": [
    {
      "cell_type": "markdown",
      "metadata": {
        "id": "e8k4LDicOc8w"
      },
      "source": [
        "# GOAL1\n",
        "Create a lazy iterator that will return a named tuple of the data in each row. The data types should be appropriate - i.e. if the column is a date, you should be storing dates in the named tuple, if the field is an integer, then it should be stored as an integer, etc."
      ]
    },
    {
      "cell_type": "code",
      "metadata": {
        "id": "peyUqmHyOhFf"
      },
      "source": [
        "# import packages\n",
        "from collections import namedtuple\n",
        "import csv\n",
        "from datetime import datetime"
      ],
      "execution_count": 3,
      "outputs": []
    },
    {
      "cell_type": "code",
      "metadata": {
        "colab": {
          "resources": {
            "http://localhost:8080/nbextensions/google.colab/files.js": {
              "data": "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",
              "ok": true,
              "headers": [
                [
                  "content-type",
                  "application/javascript"
                ]
              ],
              "status": 200,
              "status_text": ""
            }
          },
          "base_uri": "https://localhost:8080/",
          "height": 73
        },
        "id": "LXX9nG2sO1Cu",
        "outputId": "48d3db59-8e73-4df6-b8d1-cfd98e81c792"
      },
      "source": [
        "# upload \"nyc_parking_tickets.csv\" into colab\n",
        "from google.colab import files\n",
        "uploaded = files.upload()"
      ],
      "execution_count": 52,
      "outputs": [
        {
          "output_type": "display_data",
          "data": {
            "text/html": [
              "\n",
              "     <input type=\"file\" id=\"files-ee705274-b742-44e0-ab96-32d76829ff28\" name=\"files[]\" multiple disabled\n",
              "        style=\"border:none\" />\n",
              "     <output id=\"result-ee705274-b742-44e0-ab96-32d76829ff28\">\n",
              "      Upload widget is only available when the cell has been executed in the\n",
              "      current browser session. Please rerun this cell to enable.\n",
              "      </output>\n",
              "      <script src=\"/nbextensions/google.colab/files.js\"></script> "
            ],
            "text/plain": [
              "<IPython.core.display.HTML object>"
            ]
          },
          "metadata": {
            "tags": []
          }
        },
        {
          "output_type": "stream",
          "text": [
            "Saving nyc_parking_tickets_extract2.csv to nyc_parking_tickets_extract2.csv\n"
          ],
          "name": "stdout"
        }
      ]
    },
    {
      "cell_type": "code",
      "metadata": {
        "id": "5QOwSFwHfdKN"
      },
      "source": [
        "file_name = \"nyc_parking_tickets_extract2.csv\""
      ],
      "execution_count": 74,
      "outputs": []
    },
    {
      "cell_type": "code",
      "metadata": {
        "colab": {
          "base_uri": "https://localhost:8080/"
        },
        "id": "qEDSAdi4X50P",
        "outputId": "23eff95b-932e-451e-e7d8-b79945997a4f"
      },
      "source": [
        "# Print Column Names\n",
        "with open(file_name) as f:\n",
        "    header = next(f)\n",
        "\n",
        "column_header = [col.strip(\" \") for col in header.strip(\"\\n\").split(\",\")]\n",
        "column_header"
      ],
      "execution_count": 80,
      "outputs": [
        {
          "output_type": "execute_result",
          "data": {
            "text/plain": [
              "['SummonsNumber',\n",
              " 'PlateID',\n",
              " 'RegistrationState',\n",
              " 'PlateType',\n",
              " 'IssueDate',\n",
              " 'ViolationCode',\n",
              " 'VehicleBodyType',\n",
              " 'VehicleMake',\n",
              " 'ViolationDescription']"
            ]
          },
          "metadata": {
            "tags": []
          },
          "execution_count": 80
        }
      ]
    },
    {
      "cell_type": "markdown",
      "metadata": {
        "id": "imErK3tEfU2P"
      },
      "source": [
        "### Reading file using lazy iterator"
      ]
    },
    {
      "cell_type": "code",
      "metadata": {
        "id": "NJTlUyqWe2w0"
      },
      "source": [
        "def read_csv_file(file_name):\n",
        "    with open(file_name) as f:\n",
        "        next(f)\n",
        "        yield from f"
      ],
      "execution_count": 102,
      "outputs": []
    },
    {
      "cell_type": "code",
      "metadata": {
        "colab": {
          "base_uri": "https://localhost:8080/"
        },
        "id": "8y-6ms-JfjCL",
        "outputId": "f889152d-4c19-4db9-d22a-776e3a41dde3"
      },
      "source": [
        "print(column_header)\n",
        "raw_data = read_csv_file(file_name)\n",
        "for _ in range(5):\n",
        "    print(next(raw_data))"
      ],
      "execution_count": 81,
      "outputs": [
        {
          "output_type": "stream",
          "text": [
            "['SummonsNumber', 'PlateID', 'RegistrationState', 'PlateType', 'IssueDate', 'ViolationCode', 'VehicleBodyType', 'VehicleMake', 'ViolationDescription']\n",
            "4006478550,VAD7274,VA,PAS,10/5/2016,5,4D,BMW,BUS LANE VIOLATION\n",
            "\n",
            "4006462396,22834JK,NY,COM,9/30/2016,5,VAN,CHEVR,BUS LANE VIOLATION\n",
            "\n",
            "4007117810,21791MG,NY,COM,4/10/2017,5,VAN,DODGE,BUS LANE VIOLATION\n",
            "\n",
            "4006265037,FZX9232,NY,PAS,8/23/2016,5,SUBN,FORD,BUS LANE VIOLATION\n",
            "\n",
            "4006535600,N203399C,NY,OMT,10/19/2016,5,SUBN,FORD,BUS LANE VIOLATION\n",
            "\n"
          ],
          "name": "stdout"
        }
      ]
    },
    {
      "cell_type": "code",
      "metadata": {
        "id": "FXipxE2Mfj1b"
      },
      "source": [
        "def parse_int_val(value,default=None):\n",
        "    try:\n",
        "        return int(value)\n",
        "    except ValueError:\n",
        "        return default"
      ],
      "execution_count": 85,
      "outputs": []
    },
    {
      "cell_type": "code",
      "metadata": {
        "id": "7Ax7JsKugItX"
      },
      "source": [
        "from datetime import datetime\n",
        "\n",
        "def parse_date_val(value,default=None):\n",
        "    date_format='%m/%d/%Y'\n",
        "    try:\n",
        "        return datetime.strptime(value, date_format).date()\n",
        "    except ValueError:\n",
        "        return default"
      ],
      "execution_count": 91,
      "outputs": []
    },
    {
      "cell_type": "code",
      "metadata": {
        "id": "y4rakKnSgKiX"
      },
      "source": [
        "def parse_str_val(value,default=None):\n",
        "  try:\n",
        "    val = str(value).strip()\n",
        "  except ValueError:\n",
        "    val = default\n",
        "  return val"
      ],
      "execution_count": 127,
      "outputs": []
    },
    {
      "cell_type": "code",
      "metadata": {
        "id": "t5hbkgXmgMaX"
      },
      "source": [
        "column_values_parsers = (parse_int_val,  \n",
        "                  parse_str_val, \n",
        "                  parse_str_val,  \n",
        "                  parse_str_val, \n",
        "                  parse_date_val,  \n",
        "                  parse_int_val,  \n",
        "                  parse_str_val, \n",
        "                  parse_str_val, \n",
        "                  parse_str_val \n",
        "                 )"
      ],
      "execution_count": 128,
      "outputs": []
    },
    {
      "cell_type": "code",
      "metadata": {
        "id": "R4GpjLMUgcsW"
      },
      "source": [
        "# row parser\n",
        "def parse_row(row):\n",
        "    \n",
        "    fields = row.strip('\\n').split(',')\n",
        "    parsed_data = (func(field) \n",
        "                   for func, field in zip(column_parsers, fields))\n",
        "    return parsed_data"
      ],
      "execution_count": 129,
      "outputs": []
    },
    {
      "cell_type": "code",
      "metadata": {
        "id": "SD8LKNlvgx4C"
      },
      "source": [
        "rows = read_csv_file(file_name)\n",
        "\n",
        "# create generator\n",
        "def parse_rows_gen():\n",
        "    for row in read_csv_file(file_name):\n",
        "        yield zip(column_header,parse_row(row))"
      ],
      "execution_count": 130,
      "outputs": []
    },
    {
      "cell_type": "code",
      "metadata": {
        "colab": {
          "base_uri": "https://localhost:8080/"
        },
        "id": "qQEm23Nug0Ui",
        "outputId": "b588ae39-0fd5-460d-f120-bb8911a976b9"
      },
      "source": [
        "parsed_rows = parse_rows_gen()\n",
        "for i in range(5):\n",
        "    print(list(next(parsed_rows)))"
      ],
      "execution_count": 131,
      "outputs": [
        {
          "output_type": "stream",
          "text": [
            "[('SummonsNumber', 4006478550), ('PlateID', 'VAD7274'), ('RegistrationState', 'VA'), ('PlateType', 'PAS'), ('IssueDate', datetime.date(2016, 10, 5)), ('ViolationCode', 5), ('VehicleBodyType', '4D'), ('VehicleMake', 'BMW'), ('ViolationDescription', 'BUS LANE VIOLATION')]\n",
            "[('SummonsNumber', 4006462396), ('PlateID', '22834JK'), ('RegistrationState', 'NY'), ('PlateType', 'COM'), ('IssueDate', datetime.date(2016, 9, 30)), ('ViolationCode', 5), ('VehicleBodyType', 'VAN'), ('VehicleMake', 'CHEVR'), ('ViolationDescription', 'BUS LANE VIOLATION')]\n",
            "[('SummonsNumber', 4007117810), ('PlateID', '21791MG'), ('RegistrationState', 'NY'), ('PlateType', 'COM'), ('IssueDate', datetime.date(2017, 4, 10)), ('ViolationCode', 5), ('VehicleBodyType', 'VAN'), ('VehicleMake', 'DODGE'), ('ViolationDescription', 'BUS LANE VIOLATION')]\n",
            "[('SummonsNumber', 4006265037), ('PlateID', 'FZX9232'), ('RegistrationState', 'NY'), ('PlateType', 'PAS'), ('IssueDate', datetime.date(2016, 8, 23)), ('ViolationCode', 5), ('VehicleBodyType', 'SUBN'), ('VehicleMake', 'FORD'), ('ViolationDescription', 'BUS LANE VIOLATION')]\n",
            "[('SummonsNumber', 4006535600), ('PlateID', 'N203399C'), ('RegistrationState', 'NY'), ('PlateType', 'OMT'), ('IssueDate', datetime.date(2016, 10, 19)), ('ViolationCode', 5), ('VehicleBodyType', 'SUBN'), ('VehicleMake', 'FORD'), ('ViolationDescription', 'BUS LANE VIOLATION')]\n"
          ],
          "name": "stdout"
        }
      ]
    },
    {
      "cell_type": "code",
      "metadata": {
        "id": "0xY-4RUIhQZv"
      },
      "source": [
        ""
      ],
      "execution_count": null,
      "outputs": []
    },
    {
      "cell_type": "markdown",
      "metadata": {
        "id": "JpIkX023h0Zn"
      },
      "source": [
        "\n",
        "#GOAL 2 <br>\n",
        "Calculate the number of violations by car make."
      ]
    },
    {
      "cell_type": "code",
      "metadata": {
        "colab": {
          "base_uri": "https://localhost:8080/"
        },
        "id": "FIFHzxmQiHXq",
        "outputId": "c6514450-184d-4136-d8db-933e0f7f1a5c"
      },
      "source": [
        "# index=7 is to get Vehicle Make\n",
        "parsed_rows = parse_rows_gen()\n",
        "for i in range(10):\n",
        "    print(list(next(parsed_rows))[7])"
      ],
      "execution_count": 124,
      "outputs": [
        {
          "output_type": "stream",
          "text": [
            "('VehicleMake', 'BMW')\n",
            "('VehicleMake', 'CHEVR')\n",
            "('VehicleMake', 'DODGE')\n",
            "('VehicleMake', 'FORD')\n",
            "('VehicleMake', 'FORD')\n",
            "('VehicleMake', 'FRUEH')\n",
            "('VehicleMake', 'HONDA')\n",
            "('VehicleMake', 'LINCO')\n",
            "('VehicleMake', 'TOYOT')\n",
            "('VehicleMake', 'TOYOT')\n"
          ],
          "name": "stdout"
        }
      ]
    },
    {
      "cell_type": "code",
      "metadata": {
        "id": "l-19bl5Xh1o5"
      },
      "source": [
        "# holder for storing voilation make and number of violation as dict.\n",
        "violations_counts= {}\n",
        "for rows in parsed_rows:\n",
        "    data = list(next(parsed_rows))[7]\n",
        "    if data[1] in violations_counts:        \n",
        "        violations_counts[data[1]] += 1\n",
        "    else:\n",
        "        violations_counts[data[1]] = 1"
      ],
      "execution_count": 125,
      "outputs": []
    },
    {
      "cell_type": "code",
      "metadata": {
        "colab": {
          "base_uri": "https://localhost:8080/"
        },
        "id": "nSvrbvUdh_cA",
        "outputId": "649ba7ef-3dcb-44a6-cc85-b2070eba16cf"
      },
      "source": [
        "violations_counts"
      ],
      "execution_count": 126,
      "outputs": [
        {
          "output_type": "execute_result",
          "data": {
            "text/plain": [
              "{'ACURA': 7,\n",
              " 'AM/T': 1,\n",
              " 'AUDI': 7,\n",
              " 'BMW': 15,\n",
              " 'BUICK': 3,\n",
              " 'CADIL': 4,\n",
              " 'CHEVR': 40,\n",
              " 'CHRYS': 7,\n",
              " 'DODGE': 21,\n",
              " 'FIR': 1,\n",
              " 'FORD': 51,\n",
              " 'FRUEH': 21,\n",
              " 'GMC': 18,\n",
              " 'HIN': 5,\n",
              " 'HINO': 1,\n",
              " 'HONDA': 51,\n",
              " 'HYUND': 18,\n",
              " 'INFIN': 6,\n",
              " 'INTER': 11,\n",
              " 'ISUZU': 4,\n",
              " 'JAGUA': 3,\n",
              " 'JEEP': 11,\n",
              " 'KENWO': 3,\n",
              " 'KIA': 3,\n",
              " 'LEXUS': 13,\n",
              " 'LINCO': 6,\n",
              " 'MAZDA': 2,\n",
              " 'ME/BE': 18,\n",
              " 'MERCU': 3,\n",
              " 'MI/F': 1,\n",
              " 'MINI': 1,\n",
              " 'MITSU': 4,\n",
              " 'NISSA': 34,\n",
              " 'NS/OT': 9,\n",
              " None: 1,\n",
              " 'OLDSM': 1,\n",
              " 'PETER': 1,\n",
              " 'PLYMO': 1,\n",
              " 'PORSC': 1,\n",
              " 'ROVER': 2,\n",
              " 'SAAB': 1,\n",
              " 'SATUR': 2,\n",
              " 'SCION': 1,\n",
              " 'SMART': 2,\n",
              " 'SPRI': 1,\n",
              " 'STAR': 1,\n",
              " 'SUBAR': 10,\n",
              " 'TOYOT': 53,\n",
              " 'UD': 1,\n",
              " 'UPS': 1,\n",
              " 'VOLKS': 4,\n",
              " 'VOLVO': 6,\n",
              " 'WORKH': 1,\n",
              " 'YAMAH': 1}"
            ]
          },
          "metadata": {
            "tags": []
          },
          "execution_count": 126
        }
      ]
    },
    {
      "cell_type": "code",
      "metadata": {
        "id": "2vuT-KCRiKiX"
      },
      "source": [
        ""
      ],
      "execution_count": null,
      "outputs": []
    }
  ]
}
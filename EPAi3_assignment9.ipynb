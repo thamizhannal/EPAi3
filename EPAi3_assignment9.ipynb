{
  "nbformat": 4,
  "nbformat_minor": 0,
  "metadata": {
    "colab": {
      "name": "EPAi3_assignment9.ipynb",
      "provenance": [],
      "collapsed_sections": [],
      "authorship_tag": "ABX9TyOScUmL3lHcCf4ngmUi+qW9",
      "include_colab_link": true
    },
    "kernelspec": {
      "name": "python3",
      "display_name": "Python 3"
    },
    "language_info": {
      "name": "python"
    },
    "accelerator": "GPU"
  },
  "cells": [
    {
      "cell_type": "markdown",
      "metadata": {
        "id": "view-in-github",
        "colab_type": "text"
      },
      "source": [
        "<a href=\"https://colab.research.google.com/github/thamizhannal/EPAi3/blob/main/EPAi3_assignment9.ipynb\" target=\"_parent\"><img src=\"https://colab.research.google.com/assets/colab-badge.svg\" alt=\"Open In Colab\"/></a>"
      ]
    },
    {
      "cell_type": "markdown",
      "metadata": {
        "id": "Qu16QtuwIl88"
      },
      "source": [
        "# NamedTuple: fake profile data processing\n",
        "Use the Faker (Links to an external site.)library to get 10000 random profiles. **Using namedtuple**, calculate the largest blood type, mean-current_location, oldest_person_age, and average age (add proper doc-strings).\n"
      ]
    },
    {
      "cell_type": "code",
      "metadata": {
        "colab": {
          "base_uri": "https://localhost:8080/"
        },
        "id": "74ecp19dIkdf",
        "outputId": "c63d92bf-7254-4059-8a5b-4177e7e8c07e"
      },
      "source": [
        "# Install Faker library\n",
        "!pip install Faker"
      ],
      "execution_count": 2,
      "outputs": [
        {
          "output_type": "stream",
          "text": [
            "Collecting Faker\n",
            "\u001b[?25l  Downloading https://files.pythonhosted.org/packages/e4/be/d03e305f1d879f541c23d586023ec11b124d6cc3d75a95159470754134d9/Faker-8.10.0-py3-none-any.whl (1.2MB)\n",
            "\u001b[K     |████████████████████████████████| 1.2MB 8.4MB/s \n",
            "\u001b[?25hRequirement already satisfied: text-unidecode==1.3 in /usr/local/lib/python3.7/dist-packages (from Faker) (1.3)\n",
            "Requirement already satisfied: python-dateutil>=2.4 in /usr/local/lib/python3.7/dist-packages (from Faker) (2.8.1)\n",
            "Requirement already satisfied: six>=1.5 in /usr/local/lib/python3.7/dist-packages (from python-dateutil>=2.4->Faker) (1.15.0)\n",
            "Installing collected packages: Faker\n",
            "Successfully installed Faker-8.10.0\n"
          ],
          "name": "stdout"
        }
      ]
    },
    {
      "cell_type": "code",
      "metadata": {
        "id": "l_eGmpAqwt3v"
      },
      "source": [
        "#import faker library\n",
        "from faker import Faker\n",
        "fake = Faker()\n",
        "profile = fake.profile()"
      ],
      "execution_count": 3,
      "outputs": []
    },
    {
      "cell_type": "code",
      "metadata": {
        "id": "H8c8KutG3NfH"
      },
      "source": [
        "      \n",
        "from collections import namedtuple \n"
      ],
      "execution_count": 4,
      "outputs": []
    },
    {
      "cell_type": "code",
      "metadata": {
        "id": "WHd-N-ZyxPGF"
      },
      "source": [
        "def create_fake_profile_namedtuple(num: int):\n",
        "  \"\"\"\n",
        "  Create fake profile from faker library and pack it in a namedtuples for data processing\n",
        "  @param: number of profiles needs to be generated from faker library.\n",
        "  @return: return all profiles into a named tuple.\n",
        "  \"\"\"\n",
        "  \n",
        "  #'Profile', 'address, birthdate, blood_group, company, current_location, job, mail, name, residence, sex, ssn, username, website ')\n",
        "  profile = namedtuple('Profile',sorted(fake.profile().keys()))\n",
        "  \n",
        "  # Named Tuple Holder for Profile\n",
        "  profiles = namedtuple('profiles', ['Profile'])\n",
        " \n",
        "  person_profile = profile(**fake.profile())\n",
        "  \n",
        "  # create all_profiles and add pack all profiles in all_profiles\n",
        "  all_profiles = profiles(person_profile)\n",
        "\n",
        "  for _ in range(num):\n",
        "    person_profile = profile(**fake.profile())\n",
        "    all_profiles += profiles(person_profile)\n",
        "  return all_profiles\n",
        "all_profiles = create_fake_profile_namedtuple(10)"
      ],
      "execution_count": 14,
      "outputs": []
    },
    {
      "cell_type": "code",
      "metadata": {
        "id": "aAzBn4X53IRV"
      },
      "source": [
        "from datetime import date,datetime"
      ],
      "execution_count": 6,
      "outputs": []
    },
    {
      "cell_type": "code",
      "metadata": {
        "colab": {
          "base_uri": "https://localhost:8080/",
          "height": 35
        },
        "id": "JO2a1hvI2Pdl",
        "outputId": "2c796d53-f114-452a-a32f-6a405db1e314"
      },
      "source": [
        "# calculate the largest blood type\n",
        "from collections import Counter\n",
        "def calc_largest_blood_type_namedtuple(all_profiles: namedtuple):\n",
        "  \"\"\"\n",
        "  computes the largest blodd group type from blood group of a person\n",
        "  @params: all_profiles named tuple\n",
        "  @return: largest blood group type as string\n",
        "  \"\"\"\n",
        "\n",
        "  \"\"\"\n",
        "  Counter: Make use of Python Counter which returns count of each element in the list. \n",
        "  Thus, we simply find the most common element by using most_common() method.\n",
        "  \n",
        "  \"\"\"\n",
        "  largest_blood_type = Counter(list(map(lambda v: v.blood_group, all_profiles))).most_common(1)[0][0]\n",
        "  return largest_blood_type\n",
        "calc_largest_blood_type_namedtuple(all_profiles)  "
      ],
      "execution_count": 7,
      "outputs": [
        {
          "output_type": "execute_result",
          "data": {
            "application/vnd.google.colaboratory.intrinsic+json": {
              "type": "string"
            },
            "text/plain": [
              "'AB+'"
            ]
          },
          "metadata": {
            "tags": []
          },
          "execution_count": 7
        }
      ]
    },
    {
      "cell_type": "code",
      "metadata": {
        "colab": {
          "base_uri": "https://localhost:8080/"
        },
        "id": "R-2dG76Czf0b",
        "outputId": "a2759f66-fddc-41c6-aa2d-8e9d103c46dc"
      },
      "source": [
        "# mean-current_location\n",
        "import math\n",
        "def calc_mean_curr_loc_namedtuple(all_profiles: namedtuple):\n",
        "  \"\"\"\n",
        "  computes mean current location from location value of a person\n",
        "  @params: all_profiles named tuple\n",
        "  @return: x,y axis location as Decimal value\n",
        "\n",
        "  \"\"\"\n",
        "\n",
        "  '''\n",
        "  map() function returns a map object(which is an iterator) of the results after\n",
        "  applying the given function to each item of a given iterable (list, tuple etc.)\n",
        "  e.x\n",
        "  numbers = (1, 2, 3, 4)\n",
        "  result = map(lambda x: x + x, numbers)\n",
        "  '''\n",
        "  \n",
        "  num_of_profiles = len(all_profiles)\n",
        "  curr_locations = (list(map(lambda v : v.current_location , all_profiles)))\n",
        "  x = round(sum(map(lambda loc: loc[0], curr_locations))/num_of_profiles , 7)\n",
        "  y = round(sum(map(lambda loc : loc[1], curr_locations))/num_of_profiles, 7)\n",
        "  return x,y\n",
        "calc_mean_curr_loc_namedtuple(all_profiles)"
      ],
      "execution_count": 8,
      "outputs": [
        {
          "output_type": "execute_result",
          "data": {
            "text/plain": [
              "(Decimal('-0.9886526'), Decimal('-1.4874319'))"
            ]
          },
          "metadata": {
            "tags": []
          },
          "execution_count": 8
        }
      ]
    },
    {
      "cell_type": "code",
      "metadata": {
        "id": "7cuUPJxyP7sA"
      },
      "source": [
        "def calculate_age(birth: datetime):\n",
        "  \"\"\"\n",
        "  Calculate age from birth year, month and day.\n",
        "  @param: birth date as datetime\n",
        "  @return age as int\n",
        "  \"\"\"\n",
        "  today = date.today()\n",
        "  return today.year - birth.year - ((today.month, today.day) < (birth.month, birth.day))"
      ],
      "execution_count": 9,
      "outputs": []
    },
    {
      "cell_type": "code",
      "metadata": {
        "colab": {
          "base_uri": "https://localhost:8080/"
        },
        "id": "mapGh5owAgCK",
        "outputId": "3f3a2c5e-8136-45d5-caee-051ee7adff6c"
      },
      "source": [
        "#  oldest_person_age\n",
        "def oldest_person_age_namedtuple(all_profiles: namedtuple):\n",
        "  \"\"\"\n",
        "  Calculats age from birthdate and calulate olderst age of the person \n",
        "  @params: all_profiles named tuple\n",
        "  @return: oldest age as int value \n",
        "  \"\"\"\n",
        "  olderst_age  = max(map(lambda v : calculate_age(v.birthdate)  , all_profiles))\n",
        "  return olderst_age\n",
        "oldest_person_age_namedtuple(all_profiles)"
      ],
      "execution_count": 10,
      "outputs": [
        {
          "output_type": "execute_result",
          "data": {
            "text/plain": [
              "115"
            ]
          },
          "metadata": {
            "tags": []
          },
          "execution_count": 10
        }
      ]
    },
    {
      "cell_type": "code",
      "metadata": {
        "colab": {
          "base_uri": "https://localhost:8080/"
        },
        "id": "VhVIpW5SQnf8",
        "outputId": "e9d6f6e0-4785-4e68-a6ec-37fccbe2a8cf"
      },
      "source": [
        "def calc_avg_person_age__namedtuple(all_profiles:namedtuple):\n",
        "  \"\"\"\n",
        "  Calculats age from birthdate and compute average age of a person.\n",
        "  @params: all_profiles named tuple\n",
        "  @return: avg age as int value\n",
        "  \"\"\"\n",
        "  try:\n",
        "    avg_age  = round(sum(map(lambda v : calculate_age(v.birthdate)  , all_profiles))/len(all_profiles),1)\n",
        "  except ValueError as ve:\n",
        "    print((\"Error in computing age from birthdate \"))\n",
        "    print(ve.trace())\n",
        "\n",
        "  return avg_age\n",
        "calc_avg_person_age__namedtuple(all_profiles)  "
      ],
      "execution_count": 11,
      "outputs": [
        {
          "output_type": "execute_result",
          "data": {
            "text/plain": [
              "57.1"
            ]
          },
          "metadata": {
            "tags": []
          },
          "execution_count": 11
        }
      ]
    },
    {
      "cell_type": "code",
      "metadata": {
        "colab": {
          "base_uri": "https://localhost:8080/"
        },
        "id": "SGz2TtlY8pe9",
        "outputId": "f19f10a8-2465-405e-ddad-b6824aaf2e8d"
      },
      "source": [
        "def comp_elasped_time_namedtuple_process():\n",
        "\n",
        "  start_time = datetime.now()\n",
        "  num_of_profiles = 10000\n",
        "  \n",
        "  profiles_dict = create_fake_profile_namedtuple (num_of_profiles)\n",
        "  \n",
        "  oldest_person_age_namedtuple (profiles_dict)\n",
        "  calc_largest_blood_type_namedtuple(profiles_dict)\n",
        "  calc_mean_curr_loc_namedtuple(profiles_dict) \n",
        "  calc_avg_person_age__namedtuple(profiles_dict)\n",
        "\n",
        "  end_time = datetime.now()\n",
        "  elasped_time = end_time - start_time\n",
        "  print(f'NamedTuples of {num_of_profiles} faker profiles tooks hh:mm:ss.ms {elasped_time} for processing! ')\n",
        "comp_elasped_time_namedtuple_process()  "
      ],
      "execution_count": 17,
      "outputs": [
        {
          "output_type": "stream",
          "text": [
            "NamedTuples of 10000 faker profiles tooks hh:mm:ss.ms 0:00:13.575570 for processing! \n"
          ],
          "name": "stdout"
        }
      ]
    },
    {
      "cell_type": "markdown",
      "metadata": {
        "id": "8kRKp8WmAbLT"
      },
      "source": [
        "### **NamedTuples of 10000 faker profiles tooks hh:mm:ss.ms 0:00:13.575570 for processing!** \n",
        "\n",
        "\n",
        "```\n",
        "# This is formatted as code\n",
        "```\n",
        "\n"
      ]
    },
    {
      "cell_type": "markdown",
      "metadata": {
        "id": "Qq_5ht28TqD2"
      },
      "source": [
        "# Dictionary: fake_profile data processing\n",
        "Use the Faker (Links to an external site.)library to get 10000 random profiles. **Using dictionary**, calculate the largest blood type, mean-current_location, oldest_person_age, and average age (add proper doc-strings)."
      ]
    },
    {
      "cell_type": "code",
      "metadata": {
        "id": "xNgp6JJc1hKR"
      },
      "source": [
        "def create_fake_profile_dict(num_of_profiles: int):\n",
        "  \"\"\"\n",
        "  Create fake profile from faker library and pack it in a namedtuples for data processing\n",
        "  @param: number of profiles needs to be generated from faker library.\n",
        "  @return: return all profiles into a dict.\n",
        "  \"\"\"\n",
        "  profiles = {}\n",
        "  for index in range(num_of_profiles):\n",
        "    profiles[index]  = fake.profile()\n",
        "    #print(profiles[index])\n",
        "    index += 1\n",
        "  return profiles\n",
        "\n",
        "profiles_dict = create_fake_profile_dict(5)\n"
      ],
      "execution_count": 15,
      "outputs": []
    },
    {
      "cell_type": "code",
      "metadata": {
        "colab": {
          "base_uri": "https://localhost:8080/"
        },
        "id": "1edsMJoSWXQN",
        "outputId": "05242ca9-b0ed-4fac-b8e5-cfb30e8f0c94"
      },
      "source": [
        "def oldest_person_age_dict(profiles_dict: dict):\n",
        "  \"\"\"\n",
        "  Calculats age from birthdate of the profiles and calulate olderst age of the person \n",
        "  @params: profiles as dictionary\n",
        "  @return: oldest age as int value \n",
        "  \n",
        "  \"\"\"\n",
        "\n",
        "  profile = min (profiles_dict.values(), key = lambda v: (v['birthdate'] ))\n",
        "  age =calculate_age(profile['birthdate']) \n",
        "  return age\n",
        "oldest_person_age_dict(profiles_dict)"
      ],
      "execution_count": 38,
      "outputs": [
        {
          "output_type": "execute_result",
          "data": {
            "text/plain": [
              "83"
            ]
          },
          "metadata": {
            "tags": []
          },
          "execution_count": 38
        }
      ]
    },
    {
      "cell_type": "code",
      "metadata": {
        "id": "DdFz0W1hvItw",
        "colab": {
          "base_uri": "https://localhost:8080/",
          "height": 35
        },
        "outputId": "59c420ef-afea-4a39-f3b2-bf858b9a70c7"
      },
      "source": [
        "#  calculate the largest blood type\n",
        "def calc_largest_blood_type_dict(profiles_dict: dict):\n",
        "  \"\"\"\n",
        "  computes the largest blood group type from blood group of a person's profile dictionary\n",
        "  @params: profiles as dictionary\n",
        "  @return: largest blood group type as string\n",
        "  \"\"\"\n",
        "  largest_blood_group = max(list(map(lambda v: (v['blood_group']), profiles_dict.values())))\n",
        "  return largest_blood_group\n",
        "\n",
        "calc_largest_blood_type_dict(profiles_dict)"
      ],
      "execution_count": 39,
      "outputs": [
        {
          "output_type": "execute_result",
          "data": {
            "application/vnd.google.colaboratory.intrinsic+json": {
              "type": "string"
            },
            "text/plain": [
              "'O-'"
            ]
          },
          "metadata": {
            "tags": []
          },
          "execution_count": 39
        }
      ]
    },
    {
      "cell_type": "code",
      "metadata": {
        "id": "n_CvjicD_2Vv",
        "colab": {
          "base_uri": "https://localhost:8080/"
        },
        "outputId": "911813be-6b71-490a-cd89-c6538d7452d1"
      },
      "source": [
        "# mean-current_location\n",
        "def calc_mean_curr_loc_dict(profprofiles_dictiles: dict):\n",
        "  \"\"\"\n",
        "  computes mean current location from location value of a person stored in dictionary\n",
        "  @params: profiles as dictionary\n",
        "  @return: x,y axis location as Decimal value\n",
        "  \"\"\"\n",
        "  num_of_profiles = len(profiles_dict)\n",
        "  curr_locations = list(map(lambda v : v['current_location'] , profiles_dict.values()))\n",
        "  #print(curr_locations)\n",
        "  x = round(sum(map(lambda loc: loc[0], curr_locations))/num_of_profiles , 7)\n",
        "  y = round(sum(map(lambda loc : loc[1], curr_locations))/num_of_profiles, 7)\n",
        "  return x,y\n",
        "\n",
        "calc_mean_curr_loc_dict(profiles_dict)  "
      ],
      "execution_count": 40,
      "outputs": [
        {
          "output_type": "execute_result",
          "data": {
            "text/plain": [
              "(Decimal('-9.8261095'), Decimal('18.5172862'))"
            ]
          },
          "metadata": {
            "tags": []
          },
          "execution_count": 40
        }
      ]
    },
    {
      "cell_type": "code",
      "metadata": {
        "id": "Kjq2vUQ67x_V",
        "colab": {
          "base_uri": "https://localhost:8080/"
        },
        "outputId": "21cb86f4-23f0-41fd-b94d-c29963811e18"
      },
      "source": [
        "def oldest_person_age_dict(profiles_dict: dict):\n",
        "  \"\"\"\n",
        "  Calculats age from birthdate and calulate olderst age of the person from profiles dictionary\n",
        "  @params: profiles as dictionary\n",
        "  @return: oldest age as int value \n",
        "  \"\"\"\n",
        "  profile = min (profiles_dict.values(), key = lambda v: (v['birthdate'] ))\n",
        "  age =calculate_age(profile['birthdate']) \n",
        "  return age\n",
        "oldest_person_age_dict(profiles_dict)\n"
      ],
      "execution_count": 41,
      "outputs": [
        {
          "output_type": "execute_result",
          "data": {
            "text/plain": [
              "83"
            ]
          },
          "metadata": {
            "tags": []
          },
          "execution_count": 41
        }
      ]
    },
    {
      "cell_type": "code",
      "metadata": {
        "colab": {
          "base_uri": "https://localhost:8080/"
        },
        "id": "OY0plPN--VOA",
        "outputId": "e24de4e3-3851-4c11-e7c8-58058458ad94"
      },
      "source": [
        "def avg_person_age_dict(profiles_dict: dict):\n",
        "  \"\"\"\n",
        "  Calculats age from birthdate and compute average age of a person from profiles dictionary\n",
        "  @params: profiles as dictionary \n",
        "  @return: avg age as int value\n",
        "  \"\"\"\n",
        "  avg_age = sum(list(map (lambda v: calculate_age(v['birthdate']), profiles_dict.values())))/len(profiles_dict)\n",
        "  return avg_age\n",
        "\n",
        "avg_person_age_dict(profiles_dict)"
      ],
      "execution_count": 42,
      "outputs": [
        {
          "output_type": "execute_result",
          "data": {
            "text/plain": [
              "33.2"
            ]
          },
          "metadata": {
            "tags": []
          },
          "execution_count": 42
        }
      ]
    },
    {
      "cell_type": "code",
      "metadata": {
        "colab": {
          "base_uri": "https://localhost:8080/"
        },
        "id": "3w_psEDh6mxG",
        "outputId": "60fa1dec-16c6-4135-933d-4538f475805b"
      },
      "source": [
        "def comp_elasped_time_dict_process():\n",
        "\n",
        "  start_time = datetime.now()\n",
        "  num_of_profiles = 10000\n",
        "  profiles_dict = create_fake_profile_dict(num_of_profiles)\n",
        "  oldest_person_age_dict(profiles_dict)\n",
        "  calc_largest_blood_type_dict(profiles_dict)\n",
        "  calc_mean_curr_loc_dict(profiles_dict) \n",
        "  avg_person_age_dict(profiles_dict)\n",
        "  end_time = datetime.now()\n",
        "  elasped_time = end_time - start_time\n",
        "  print(f'Dictionay of {num_of_profiles} faker profiles tooks hh:mm:ss.ms {elasped_time} for processing! ')\n",
        "comp_elasped_time_dict_process()  "
      ],
      "execution_count": 56,
      "outputs": [
        {
          "output_type": "stream",
          "text": [
            "Dictionay of 10000 faker profiles tooks hh:mm:ss.ms 0:00:15.324825 for processing! \n"
          ],
          "name": "stdout"
        }
      ]
    },
    {
      "cell_type": "markdown",
      "metadata": {
        "id": "-ZjelJ9eAjCh"
      },
      "source": [
        "### Dictionay of 10000 faker profiles tooks hh:mm:ss.ms 0:00:15.324825 for processing! \n"
      ]
    },
    {
      "cell_type": "markdown",
      "metadata": {
        "id": "lZ3wivQu-dFh"
      },
      "source": [
        "# Named Tupes >>> Dictionary\n",
        "### **NamedTuples of 10000 faker profiles tooks hh:mm:ss.ms 0:00:13.575570 for processing!** \n",
        "### **Dictionay of 10000 faker profiles tooks hh:mm:ss.ms 0:00:15.493149 for processing!**\n",
        "### **NamedTuple** > **Dictionary** for large scale data processing\"\n"
      ]
    },
    {
      "cell_type": "markdown",
      "metadata": {
        "id": "1Oa5OyIQLI9s"
      },
      "source": [
        "#Stock Exchange\n",
        "Create fake data (you can use Faker for company names) for imaginary stock exchange for top 100 companies (name, symbol, open, high, close). Assign a random weight to all the companies. Calculate and show what value the stock market started at, what was the highest value during the day, and where did it end. Make sure your open, high, close are not totally random. You can only use namedtuple. - 500  (including 10 test cases)\n"
      ]
    },
    {
      "cell_type": "code",
      "metadata": {
        "colab": {
          "base_uri": "https://localhost:8080/"
        },
        "id": "CbpFzmOY_f7P",
        "outputId": "69cb1679-cd27-4667-b6ba-f92dfa7d3f28"
      },
      "source": [
        "from random import uniform, randint, sample\n",
        "import math\n",
        "\n",
        "\n",
        "# Global variables\n",
        "# To Hold Company in stock exchange \n",
        "Company = namedtuple('Company', 'name, symbol, open, high, low, close')\n",
        "# To hold all companies in stock exchange\n",
        "all_companies = namedtuple('all_companies', ['Company'])\n",
        "# Holder for random weights\n",
        "random_weight = namedtuple('random_weight','weight')\n",
        "\n",
        "\n",
        "\n",
        "def init_stock_exchange(num_of_stocks : int):\n",
        "  \"\"\"\n",
        "  This function creates a named tuples to hold the Company that consist of name, symbol, open, high, low, close\n",
        "  It initialized weight of each stocks randomly. From random weight a normalized weigh is being computed \n",
        "  that represents % of weight of each stock in exchange.\n",
        "  @param: num_of_stocks present in the exchange as int value\n",
        "  @return: all_stocks that initialize with Company and normalized weight for num_of_stocks\n",
        "  \"\"\"\n",
        "\n",
        "\n",
        "  weight = round(uniform(0,1),2)\n",
        "  total_random_weights = random_weight(weight)\n",
        "\n",
        "  for _ in range(num_of_stocks):\n",
        "    weight = round(uniform(0,1),2)\n",
        "    total_random_weights += weight,\n",
        "\n",
        "  \"\"\"\n",
        "  Convert Random weight into normalized weights to assign price to stocks\n",
        "  Normalized weight represents % of weigh a stock holds in exchange value\n",
        "  \"\"\"\n",
        "  normalized_weights =  tuple(map(lambda x: (x/sum(total_random_weights)*100),total_random_weights))\n",
        "  for n in normalized_weights:\n",
        "    print(\"Normalized weights:\",round(n,2))\n",
        "\n",
        "  # Assign price to stocks using normalized weights\n",
        "  open = round(normalized_weights[_] *  randint(1,100),2)\n",
        "  \n",
        "  \"\"\" \n",
        "  Assumption: Stocks can't go higher than +20% in a day\n",
        "  Assumption: Stock can't go lower than -20% in a day\n",
        "  \"\"\"\n",
        "  high = round(open * uniform(1.0,1.2),2)\n",
        "  low = round(open * uniform(0.8,1.0),2)\n",
        "  close = round(open * uniform(0.8,1.2),2)\n",
        "  company = fake.company()\n",
        "  # symbol is first 4 alphabets of the company name.\n",
        "  symbol = company[:4].upper()\n",
        "  \"\"\"\n",
        "  close is high, then mark high=close\n",
        "  \"\"\"\n",
        "  if close > high:\n",
        "    high = close\n",
        "  \"\"\"\n",
        "  Open price can he highest price of the stock in a day \n",
        "  \"\"\"\n",
        "  if high <= open:\n",
        "    high = open\n",
        "\n",
        "  c = Company(company,symbol,open, high, low, close)\n",
        "  all_stocks = all_companies(c)    \n",
        "    \n",
        "  return all_stocks,normalized_weights\n",
        "\n",
        "init_stock_exchange(5)"
      ],
      "execution_count": 9,
      "outputs": [
        {
          "output_type": "stream",
          "text": [
            "Normalized weights: 6.98\n",
            "Normalized weights: 28.78\n",
            "Normalized weights: 2.03\n",
            "Normalized weights: 28.2\n",
            "Normalized weights: 25.0\n",
            "Normalized weights: 9.01\n"
          ],
          "name": "stdout"
        },
        {
          "output_type": "execute_result",
          "data": {
            "text/plain": [
              "(all_companies(Company=Company(name='Weber, Schmidt and Harris', symbol='WEBE', open=2175.0, high=2475.1, low=1939.88, close=2035.83)),\n",
              " (6.976744186046512,\n",
              "  28.77906976744186,\n",
              "  2.0348837209302326,\n",
              "  28.197674418604652,\n",
              "  25.0,\n",
              "  9.011627906976745))"
            ]
          },
          "metadata": {
            "tags": []
          },
          "execution_count": 9
        }
      ]
    },
    {
      "cell_type": "code",
      "metadata": {
        "colab": {
          "base_uri": "https://localhost:8080/"
        },
        "id": "6dUnS_lkjfLq",
        "outputId": "0110e43b-b1e8-479d-af3d-425bc0b8696a"
      },
      "source": [
        "def run_stock_exchange(all_stocks: namedtuple, normalized_weights: namedtuple, num_of_stocks:int):\n",
        "  \"\"\"\n",
        "  @param: all_stocks named tuple is initialized with Company class\n",
        "  @param: normalized_weight is percentage of weight each stock holds in stock exchange\n",
        "  @param: num_of_stocks is int represents number of stocks in exchange\n",
        "  @return list of companies as named tuple thaat consist of stocks name, symbol, open, high, low and close prices\n",
        "  \"\"\"\n",
        "\n",
        "  for _ in range(num_of_stocks-1):\n",
        "    # Assign price to stocks using normalized weights\n",
        "    print(normalized_weights[_])\n",
        "    open = round(normalized_weights[_] *  randint(1,100),2)\n",
        "\n",
        "  \n",
        "    \"\"\" \n",
        "    Assumption: Stocks can't go higher than +20% in a day\n",
        "    Assumption: Stock can't go lower than -20% in a day\n",
        "\n",
        "    \"\"\"\n",
        "    high = round(open * uniform(1.0,1.2),2)\n",
        "    low = round(open * uniform(0.8,1.0),2)\n",
        "    close = round(open * uniform(0.8,1.2),2)\n",
        "    company = fake.company()\n",
        "    symbol = company[:4].upper()\n",
        "    \"\"\"\n",
        "    close is high, then mark high=close\n",
        "\n",
        "    \"\"\"\n",
        "    if close > high:\n",
        "      high = close\n",
        "    \"\"\"\n",
        "    Open price can he highest price of the stock in a day \n",
        "    \"\"\"\n",
        "    if high <= open:\n",
        "      high = open\n",
        "\n",
        "    c = Company(company,symbol,open, high, low, close)\n",
        "    all_stocks += all_companies(c)\n",
        "    \n",
        "  return all_stocks\n",
        "\n",
        "\n",
        "all_stocks, normalized_weights = init_stock_exchange(100)\n",
        "run_stock_exchange( all_stocks, normalized_weights, 100)  \n",
        "\n",
        "\n"
      ],
      "execution_count": 8,
      "outputs": [
        {
          "output_type": "stream",
          "text": [
            "Normalized weights: 0.51\n",
            "Normalized weights: 0.8\n",
            "Normalized weights: 0.87\n",
            "Normalized weights: 0.55\n",
            "Normalized weights: 0.32\n",
            "Normalized weights: 0.92\n",
            "Normalized weights: 1.7\n",
            "Normalized weights: 0.3\n",
            "Normalized weights: 1.01\n",
            "Normalized weights: 0.99\n",
            "Normalized weights: 1.72\n",
            "Normalized weights: 1.76\n",
            "Normalized weights: 0.28\n",
            "Normalized weights: 0.64\n",
            "Normalized weights: 0.11\n",
            "Normalized weights: 1.61\n",
            "Normalized weights: 0.48\n",
            "Normalized weights: 0.85\n",
            "Normalized weights: 1.45\n",
            "Normalized weights: 0.59\n",
            "Normalized weights: 0.25\n",
            "Normalized weights: 1.72\n",
            "Normalized weights: 0.59\n",
            "Normalized weights: 1.22\n",
            "Normalized weights: 0.9\n",
            "Normalized weights: 0.83\n",
            "Normalized weights: 1.65\n",
            "Normalized weights: 1.53\n",
            "Normalized weights: 1.51\n",
            "Normalized weights: 0.3\n",
            "Normalized weights: 1.01\n",
            "Normalized weights: 0.83\n",
            "Normalized weights: 0.92\n",
            "Normalized weights: 1.56\n",
            "Normalized weights: 1.72\n",
            "Normalized weights: 1.19\n",
            "Normalized weights: 0.6\n",
            "Normalized weights: 1.19\n",
            "Normalized weights: 1.15\n",
            "Normalized weights: 0.44\n",
            "Normalized weights: 1.51\n",
            "Normalized weights: 1.15\n",
            "Normalized weights: 0.92\n",
            "Normalized weights: 0.59\n",
            "Normalized weights: 0.53\n",
            "Normalized weights: 0.09\n",
            "Normalized weights: 0.55\n",
            "Normalized weights: 0.23\n",
            "Normalized weights: 0.6\n",
            "Normalized weights: 0.41\n",
            "Normalized weights: 1.4\n",
            "Normalized weights: 0.99\n",
            "Normalized weights: 0.51\n",
            "Normalized weights: 0.41\n",
            "Normalized weights: 1.24\n",
            "Normalized weights: 1.68\n",
            "Normalized weights: 0.78\n",
            "Normalized weights: 0.55\n",
            "Normalized weights: 0.94\n",
            "Normalized weights: 1.7\n",
            "Normalized weights: 0.9\n",
            "Normalized weights: 1.7\n",
            "Normalized weights: 1.19\n",
            "Normalized weights: 1.54\n",
            "Normalized weights: 1.58\n",
            "Normalized weights: 0.41\n",
            "Normalized weights: 0.57\n",
            "Normalized weights: 0.07\n",
            "Normalized weights: 0.44\n",
            "Normalized weights: 1.61\n",
            "Normalized weights: 0.53\n",
            "Normalized weights: 1.68\n",
            "Normalized weights: 1.77\n",
            "Normalized weights: 1.33\n",
            "Normalized weights: 0.67\n",
            "Normalized weights: 1.7\n",
            "Normalized weights: 0.48\n",
            "Normalized weights: 1.51\n",
            "Normalized weights: 1.24\n",
            "Normalized weights: 1.44\n",
            "Normalized weights: 1.6\n",
            "Normalized weights: 0.66\n",
            "Normalized weights: 1.49\n",
            "Normalized weights: 1.51\n",
            "Normalized weights: 1.47\n",
            "Normalized weights: 1.56\n",
            "Normalized weights: 0.64\n",
            "Normalized weights: 0.57\n",
            "Normalized weights: 0.71\n",
            "Normalized weights: 1.56\n",
            "Normalized weights: 0.21\n",
            "Normalized weights: 1.56\n",
            "Normalized weights: 1.42\n",
            "Normalized weights: 1.31\n",
            "Normalized weights: 0.51\n",
            "Normalized weights: 0.92\n",
            "Normalized weights: 0.69\n",
            "Normalized weights: 1.12\n",
            "Normalized weights: 0.92\n",
            "Normalized weights: 0.85\n",
            "Normalized weights: 0.94\n",
            "0.5143667967364313\n",
            "0.7981553742461865\n",
            "0.8691025186236252\n",
            "0.5498403689251506\n",
            "0.31926214969847455\n",
            "0.9223128769067044\n",
            "1.702731465058531\n",
            "0.30152536360411486\n",
            "1.0109968073785027\n",
            "0.9932600212841431\n",
            "1.7204682511528908\n",
            "1.7559418233416102\n",
            "0.28378857750975517\n",
            "0.6385242993969491\n",
            "0.10642071656615819\n",
            "1.6140475345867327\n",
            "0.4788932245477119\n",
            "0.8513657325292655\n",
            "1.4544164597374951\n",
            "0.58531394111387\n",
            "0.2483150053210358\n",
            "1.7204682511528908\n",
            "0.58531394111387\n",
            "1.223838240510819\n",
            "0.9045760908123446\n",
            "0.8336289464349058\n",
            "1.649521106775452\n",
            "1.525363604114934\n",
            "1.5076268180205743\n",
            "0.30152536360411486\n",
            "1.0109968073785027\n",
            "0.8336289464349058\n",
            "0.9223128769067044\n",
            "1.5608371763036535\n",
            "1.7204682511528908\n",
            "1.1883646683220999\n",
            "0.6030507272082297\n",
            "1.1883646683220999\n",
            "1.1528910961333805\n",
            "0.44341965235899244\n",
            "1.5076268180205743\n",
            "1.1528910961333805\n",
            "0.9223128769067044\n",
            "0.58531394111387\n",
            "0.532103582830791\n",
            "0.0886839304717985\n",
            "0.5498403689251506\n",
            "0.2305782192266761\n",
            "0.6030507272082297\n",
            "0.4079460801702731\n",
            "1.4012061014544162\n",
            "0.9932600212841431\n",
            "0.5143667967364313\n",
            "0.4079460801702731\n",
            "1.2415750266051788\n",
            "1.6849946789641714\n",
            "0.7804185881518267\n",
            "0.5498403689251506\n",
            "0.9400496630010641\n",
            "1.702731465058531\n",
            "0.9045760908123446\n",
            "1.702731465058531\n",
            "1.1883646683220999\n",
            "1.5431003902092937\n",
            "1.578573962398013\n",
            "0.4079460801702731\n",
            "0.5675771550195103\n",
            "0.07094714437743879\n",
            "0.44341965235899244\n",
            "1.6140475345867327\n",
            "0.532103582830791\n",
            "1.6849946789641714\n",
            "1.7736786094359698\n",
            "1.3302589570769774\n",
            "0.6739978715856685\n",
            "1.702731465058531\n",
            "0.4788932245477119\n",
            "1.5076268180205743\n",
            "1.2415750266051788\n",
            "1.4366796736431355\n",
            "1.596310748492373\n",
            "0.6562610854913088\n",
            "1.4898900319262145\n",
            "1.5076268180205743\n",
            "1.472153245831855\n",
            "1.5608371763036535\n",
            "0.6385242993969491\n",
            "0.5675771550195103\n",
            "0.709471443774388\n",
            "1.5608371763036535\n",
            "0.21284143313231638\n",
            "1.5608371763036535\n",
            "1.418942887548776\n",
            "1.3125221709826176\n",
            "0.5143667967364313\n",
            "0.9223128769067044\n",
            "0.6917346576800283\n",
            "1.117417523944661\n",
            "0.9223128769067044\n"
          ],
          "name": "stdout"
        },
        {
          "output_type": "execute_result",
          "data": {
            "text/plain": [
              "(Company(name='Weaver and Sons', symbol='WEAV', open=85.14, high=99.85, low=78.42, close=69.23),\n",
              " Company(name='Holloway-Becker', symbol='HOLL', open=19.03, high=20.51, low=18.93, close=19.51),\n",
              " Company(name='Harris, Rivera and Moody', symbol='HARR', open=31.93, high=36.22, low=27.51, close=25.81),\n",
              " Company(name='Bishop Ltd', symbol='BISH', open=66.05, high=76.4, low=54.36, close=62.33),\n",
              " Company(name='Compton, Graves and Brewer', symbol='COMP', open=48.94, high=56.79, low=40.16, close=53.55),\n",
              " Company(name='Rodriguez-Perez', symbol='RODR', open=18.2, high=20.18, low=18.09, close=19.23),\n",
              " Company(name='Williams and Sons', symbol='WILL', open=23.06, high=25.52, low=22.95, close=20.51),\n",
              " Company(name='Durham Group', symbol='DURH', open=168.57, high=191.35, low=159.71, close=136.45),\n",
              " Company(name='Williams, Davis and Fields', symbol='WILL', open=12.97, high=15.19, low=10.46, close=12.76),\n",
              " Company(name='Barry, Sanders and Odom', symbol='BARR', open=99.08, high=106.72, low=86.76, close=90.25),\n",
              " Company(name='Miller, Wilson and Murphy', symbol='MILL', open=72.51, high=85.06, low=65.43, close=58.97),\n",
              " Company(name='Scott LLC', symbol='SCOT', open=110.11, high=123.63, low=102.01, close=111.36),\n",
              " Company(name='Davis Group', symbol='DAVI', open=7.02, high=8.28, low=6.85, close=8.28),\n",
              " Company(name='Lee-Mills', symbol='LEE-', open=21.85, high=24.87, low=17.61, close=23.8),\n",
              " Company(name='Duran-Floyd', symbol='DURA', open=58.74, high=61.23, low=49.44, close=50.54),\n",
              " Company(name='Mendoza-Moon', symbol='MEND', open=7.77, high=9.24, low=6.79, close=7.82),\n",
              " Company(name='Lang-Simmons', symbol='LANG', open=64.56, high=69.16, low=53.61, close=54.53),\n",
              " Company(name='Diaz Group', symbol='DIAZ', open=1.44, high=1.72, low=1.31, close=1.51),\n",
              " Company(name='Scott, Mckee and Hobbs', symbol='SCOT', open=76.62, high=78.48, low=74.27, close=68.33),\n",
              " Company(name='Perry Ltd', symbol='PERR', open=111.99, high=120.12, low=100.94, close=110.33),\n",
              " Company(name='Young-Williams', symbol='YOUN', open=8.19, high=9.31, low=8.15, close=7.64),\n",
              " Company(name='Matthews, Boyer and Garrett', symbol='MATT', open=10.43, high=11.67, low=10.26, close=11.67),\n",
              " Company(name='Taylor-Gray', symbol='TAYL', open=56.78, high=59.76, low=53.5, close=59.76),\n",
              " Company(name='Collins LLC', symbol='COLL', open=7.61, high=8.83, low=6.49, close=6.91),\n",
              " Company(name='Ali-Johnson', symbol='ALI-', open=88.12, high=100.77, low=72.56, close=100.77),\n",
              " Company(name='Wagner, Anderson and Carpenter', symbol='WAGN', open=85.03, high=90.8, low=71.08, close=72.41),\n",
              " Company(name='Rubio-Lewis', symbol='RUBI', open=18.34, high=20.65, low=16.96, close=20.36),\n",
              " Company(name='Gutierrez Inc', symbol='GUTI', open=112.17, high=133.51, low=106.52, close=132.01),\n",
              " Company(name='Shaw, Conway and Keller', symbol='SHAW', open=62.54, high=70.49, low=57.05, close=54.82),\n",
              " Company(name='Daniel-Lopez', symbol='DANI', open=93.47, high=111.62, low=90.48, close=111.62),\n",
              " Company(name='Mclaughlin, Boyle and Ramirez', symbol='MCLA', open=3.62, high=4.27, low=3.12, close=3.83),\n",
              " Company(name='Jackson Inc', symbol='JACK', open=12.13, high=12.83, low=11.64, close=11.99),\n",
              " Company(name='Garcia, Evans and Parker', symbol='GARC', open=70.02, high=77.71, low=60.9, close=77.71),\n",
              " Company(name='Flores, Martin and Wright', symbol='FLOR', open=0.92, high=0.97, low=0.76, close=0.9),\n",
              " Company(name='Barker, Hughes and Barrett', symbol='BARK', open=103.02, high=115.32, low=94.06, close=111.91),\n",
              " Company(name='Taylor-Yoder', symbol='TAYL', open=77.42, high=86.87, low=73.74, close=86.87),\n",
              " Company(name='Martinez-Evans', symbol='MART', open=13.07, high=14.49, low=11.26, close=14.49),\n",
              " Company(name='Smith, Faulkner and Wood', symbol='SMIT', open=18.09, high=20.45, low=17.53, close=18.74),\n",
              " Company(name='Adkins, Miller and Turner', symbol='ADKI', open=47.53, high=55.63, low=46.94, close=42.94),\n",
              " Company(name='Hamilton-Ayala', symbol='HAMI', open=9.22, high=10.26, low=9.02, close=10.26),\n",
              " Company(name='Chan, Barber and White', symbol='CHAN', open=32.81, high=37.89, low=29.09, close=28.39),\n",
              " Company(name='Meyers, Thompson and Warren', symbol='MEYE', open=48.24, high=48.53, low=41.94, close=38.8),\n",
              " Company(name='Johnson-Marshall', symbol='JOHN', open=16.14, high=18.27, low=15.85, close=15.12),\n",
              " Company(name='Curry, Olson and Landry', symbol='CURR', open=69.17, high=81.49, low=60.4, close=61.94),\n",
              " Company(name='Martin, Farmer and Johnson', symbol='MART', open=11.12, high=12.9, low=9.29, close=12.9),\n",
              " Company(name='Scott, Lynch and Clay', symbol='SCOT', open=12.24, high=14.49, low=11.63, close=13.39),\n",
              " Company(name='Roberts, Clark and Smith', symbol='ROBE', open=5.76, high=6.86, low=5.71, close=5.55),\n",
              " Company(name='Watson and Sons', symbol='WATS', open=40.69, high=45.89, low=35.82, close=34.66),\n",
              " Company(name='Rhodes-Schmidt', symbol='RHOD', open=16.37, high=16.64, low=14.75, close=15.4),\n",
              " Company(name='Daniels, Scott and Nelson', symbol='DANI', open=3.62, high=4.11, low=3.43, close=3.26),\n",
              " Company(name='Lara-Scott', symbol='LARA', open=22.84, high=25.86, low=20.72, close=23.93),\n",
              " Company(name='Morrison and Sons', symbol='MORR', open=113.5, high=134.96, low=95.65, close=132.2),\n",
              " Company(name='Pierce and Sons', symbol='PIER', open=0.99, high=1.18, low=0.86, close=0.93),\n",
              " Company(name='Gamble, Garrett and Reynolds', symbol='GAMB', open=4.11, high=4.56, low=3.35, close=3.71),\n",
              " Company(name='Campbell Ltd', symbol='CAMP', open=36.72, high=40.37, low=35.22, close=39.91),\n",
              " Company(name='Weaver, Hall and Bailey', symbol='WEAV', open=89.39, high=102.05, low=82.83, close=91.37),\n",
              " Company(name='Wolf Group', symbol='WOLF', open=155.02, high=179.35, low=142.94, close=151.72),\n",
              " Company(name='Daniel, Ward and Hall', symbol='DANI', open=14.83, high=16.2, low=14.5, close=16.2),\n",
              " Company(name='Ruiz, Leon and Wagner', symbol='RUIZ', open=19.24, high=20.47, low=16.55, close=17.53),\n",
              " Company(name='Johnson-Smith', symbol='JOHN', open=75.2, high=79.74, low=70.53, close=70.89),\n",
              " Company(name='Davis, Mahoney and Russell', symbol='DAVI', open=120.89, high=142.68, low=119.76, close=113.19),\n",
              " Company(name='Taylor-Garza', symbol='TAYL', open=46.13, high=47.12, low=41.44, close=37.66),\n",
              " Company(name='Douglas LLC', symbol='DOUG', open=52.78, high=53.75, low=49.8, close=52.92),\n",
              " Company(name='Walker LLC', symbol='WALK', open=68.93, high=72.75, low=57.93, close=60.34),\n",
              " Company(name='Durham PLC', symbol='DURH', open=23.15, high=24.47, low=19.05, close=19.41),\n",
              " Company(name='Gray-Clark', symbol='GRAY', open=145.23, high=165.16, low=135.31, close=130.3),\n",
              " Company(name='Guerra Ltd', symbol='GUER', open=9.38, high=10.45, low=7.54, close=7.68),\n",
              " Company(name='Edwards Group', symbol='EDWA', open=38.6, high=41.27, low=34.12, close=38.86),\n",
              " Company(name='Lopez-Alexander', symbol='LOPE', open=3.05, high=3.65, low=2.98, close=2.83),\n",
              " Company(name='Lambert-Gillespie', symbol='LAMB', open=23.06, high=27.59, low=21.6, close=21.94),\n",
              " Company(name='Horne, Mathis and Marshall', symbol='HORN', open=32.28, high=36.53, low=30.4, close=36.53),\n",
              " Company(name='Jones, Herrera and Hernandez', symbol='JONE', open=14.37, high=15.75, low=12.3, close=15.75),\n",
              " Company(name='Sanders Ltd', symbol='SAND', open=160.07, high=183.01, low=155.57, close=147.07),\n",
              " Company(name='Lee and Sons', symbol='LEE ', open=131.25, high=137.75, low=123.86, close=106.4),\n",
              " Company(name='Garcia, Robinson and Weaver', symbol='GARC', open=70.5, high=83.72, low=67.6, close=80.11),\n",
              " Company(name='Pierce LLC', symbol='PIER', open=25.61, high=25.96, low=25.35, close=21.85),\n",
              " Company(name='Holt, Evans and Reid', symbol='HOLT', open=5.11, high=5.62, low=4.2, close=5.62),\n",
              " Company(name='Rodriguez-Bennett', symbol='RODR', open=25.86, high=28.07, low=25.49, close=24.48),\n",
              " Company(name='Williams LLC', symbol='WILL', open=140.21, high=155.47, low=120.13, close=125.94),\n",
              " Company(name='Saunders, Glover and Anderson', symbol='SAUN', open=79.46, high=79.84, low=70.62, close=65.04),\n",
              " Company(name='Dyer-Baldwin', symbol='DYER', open=10.06, high=10.95, low=8.13, close=10.95),\n",
              " Company(name='White Inc', symbol='WHIT', open=89.39, high=102.48, low=71.91, close=73.12),\n",
              " Company(name='Ramirez Ltd', symbol='RAMI', open=38.06, high=42.79, low=31.21, close=33.28),\n",
              " Company(name='White-Johnson', symbol='WHIT', open=137.07, high=163.6, low=125.92, close=163.6),\n",
              " Company(name='Herring, Wright and Little', symbol='HERR', open=138.7, high=151.35, low=115.73, close=134.63),\n",
              " Company(name='Hale Ltd', symbol='HALE', open=63.3, high=73.64, low=59.16, close=51.1),\n",
              " Company(name='Rice-Carlson', symbol='RICE', open=82.72, high=96.75, low=74.58, close=81.91),\n",
              " Company(name='Cohen, Sanders and Long', symbol='COHE', open=62.58, high=66.31, low=57.36, close=64.96),\n",
              " Company(name='Walker Ltd', symbol='WALK', open=54.49, high=57.84, low=46.69, close=46.88),\n",
              " Company(name='Pruitt-Clark', symbol='PRUI', open=34.05, high=36.19, low=31.99, close=36.19),\n",
              " Company(name='Sweeney Group', symbol='SWEE', open=53.07, high=55.93, low=44.81, close=47.89),\n",
              " Company(name='Jennings, Decker and Smith', symbol='JENN', open=9.15, high=9.97, low=7.35, close=9.97),\n",
              " Company(name='Lynch-Vang', symbol='LYNC', open=17.17, high=20.01, low=15.13, close=17.07),\n",
              " Company(name='Gallagher, Hernandez and Moore', symbol='GALL', open=17.03, high=19.81, low=16.04, close=19.56),\n",
              " Company(name='Jacobs-Spence', symbol='JACO', open=123.38, high=133.81, low=106.7, close=129.26),\n",
              " Company(name='Moody-Mcintyre', symbol='MOOD', open=24.18, high=28.57, low=22.28, close=27.26),\n",
              " Company(name='Wood Ltd', symbol='WOOD', open=71.94, high=75.01, low=58.06, close=75.01),\n",
              " Company(name='Fletcher, Patel and Young', symbol='FLET', open=66.41, high=76.72, low=56.39, close=66.42),\n",
              " Company(name='Thompson, Williams and Patton', symbol='THOM', open=71.51, high=76.93, low=60.87, close=76.93),\n",
              " Company(name='Schwartz-Choi', symbol='SCHW', open=17.52, high=19.24, low=14.59, close=18.27))"
            ]
          },
          "metadata": {
            "tags": []
          },
          "execution_count": 8
        }
      ]
    },
    {
      "cell_type": "code",
      "metadata": {
        "id": "1c1mzIWgbWGs"
      },
      "source": [
        ""
      ],
      "execution_count": null,
      "outputs": []
    }
  ]
}
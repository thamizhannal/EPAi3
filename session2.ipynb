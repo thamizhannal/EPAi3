{
  "cells": [
    {
      "cell_type": "markdown",
      "metadata": {
        "cell_id": "00000-4e1e4f14-86c4-48c9-8cbb-b4d3b068864d",
        "deepnote_cell_type": "markdown",
        "tags": []
      },
      "source": [
        "# Multi-line statements and strings"
      ]
    },
    {
      "cell_type": "code",
      "execution_count": 1,
      "metadata": {
        "cell_id": "00000-7d70e1a9-6cd5-4fb4-99a0-5dfebd6796b5",
        "deepnote_cell_type": "code",
        "deepnote_to_be_reexecuted": false,
        "execution_millis": 0,
        "execution_start": 1619854026173,
        "source_hash": "2bbc9788",
        "tags": []
      },
      "outputs": [],
      "source": [
        "a = [1, 'c', 'Hello', 3 + 4j]"
      ]
    },
    {
      "cell_type": "code",
      "execution_count": 2,
      "metadata": {
        "cell_id": "00002-86d4f031-527d-4d26-a67a-0f27b92132c3",
        "deepnote_cell_type": "code",
        "deepnote_to_be_reexecuted": false,
        "execution_millis": 6008,
        "execution_start": 1619854026174,
        "source_hash": "3c06e4c6",
        "tags": []
      },
      "outputs": [],
      "source": [
        "a = [1, \n",
        "    'c', \n",
        "    'Hello', \n",
        "    3 + 4j]"
      ]
    },
    {
      "cell_type": "code",
      "execution_count": 3,
      "metadata": {
        "cell_id": "00003-512feea7-6955-4441-88d8-d246e24df1fe",
        "deepnote_cell_type": "code",
        "deepnote_to_be_reexecuted": false,
        "execution_millis": 82,
        "execution_start": 1619854026175,
        "source_hash": "ef4233c",
        "tags": []
      },
      "outputs": [
        {
          "data": {
            "text/plain": [
              "[1, 'c', 'Hello', (3+4j)]"
            ]
          },
          "execution_count": 3,
          "metadata": {},
          "output_type": "execute_result"
        }
      ],
      "source": [
        "a"
      ]
    },
    {
      "cell_type": "code",
      "execution_count": 4,
      "metadata": {
        "cell_id": "00004-eafa561c-955a-4437-8d45-4f33ad482a90",
        "deepnote_cell_type": "code",
        "deepnote_to_be_reexecuted": false,
        "execution_millis": 5992,
        "execution_start": 1619854026199,
        "source_hash": "48a195c1",
        "tags": []
      },
      "outputs": [],
      "source": [
        "a = 4"
      ]
    },
    {
      "cell_type": "code",
      "execution_count": 5,
      "metadata": {
        "cell_id": "00005-3bde684a-6920-4cb7-8b7f-424d866e12d3",
        "deepnote_cell_type": "code",
        "deepnote_to_be_reexecuted": false,
        "execution_millis": 1,
        "execution_start": 1619854026199,
        "source_hash": "6dee9434",
        "tags": []
      },
      "outputs": [],
      "source": [
        "a = \"This is a sentence said by Shashi Tharoor, and he is going to use worlds like entshuldiging and words imported from thesaurus which none of us can really understand. \""
      ]
    },
    {
      "cell_type": "code",
      "execution_count": 7,
      "metadata": {
        "cell_id": "00006-8b9fe5cf-0cf2-436f-812c-5e12e91465de",
        "deepnote_cell_type": "code",
        "deepnote_to_be_reexecuted": false,
        "execution_millis": 6002,
        "execution_start": 1619854026222,
        "source_hash": "ed2cffc6",
        "tags": []
      },
      "outputs": [
        {
          "ename": "SyntaxError",
          "evalue": "EOL while scanning string literal (Temp/ipykernel_27696/777989937.py, line 2)",
          "output_type": "error",
          "traceback": [
            "\u001b[1;36m  File \u001b[1;32m\"C:\\Users\\Admin\\AppData\\Local\\Temp/ipykernel_27696/777989937.py\"\u001b[1;36m, line \u001b[1;32m2\u001b[0m\n\u001b[1;33m    a = \"This is a sentence said by Shashi Tharoor, and he is going to use worlds like entshuldiging and words\u001b[0m\n\u001b[1;37m                                                                                                               ^\u001b[0m\n\u001b[1;31mSyntaxError\u001b[0m\u001b[1;31m:\u001b[0m EOL while scanning string literal\n"
          ]
        }
      ],
      "source": [
        "# multi line string should ends with \\\n",
        "a = \"This is a sentence said by Shashi Tharoor, and he is going to use worlds like entshuldiging and words \n",
        "imported from thesaurus which none of us can really understand. \""
      ]
    },
    {
      "cell_type": "code",
      "execution_count": 8,
      "metadata": {
        "cell_id": "00007-b6a46186-2346-40bb-8a03-7d3cfa03e83c",
        "deepnote_cell_type": "code",
        "deepnote_to_be_reexecuted": true,
        "execution_millis": 1,
        "execution_start": 1619848577074,
        "source_hash": "3a22ebba",
        "tags": []
      },
      "outputs": [],
      "source": [
        "a = \"This is a sentence said by Shashi Tharoor, and he is going to use worlds like entshuldiging and words \\\n",
        "imported from thesaurus which none of us can really understand. \""
      ]
    },
    {
      "cell_type": "code",
      "execution_count": 9,
      "metadata": {
        "cell_id": "00008-1bdaab1c-5a5c-4fad-946d-8cf013080668",
        "deepnote_cell_type": "code",
        "deepnote_to_be_reexecuted": true,
        "execution_millis": 43,
        "execution_start": 1619848580962,
        "source_hash": "ef4233c",
        "tags": []
      },
      "outputs": [
        {
          "data": {
            "text/plain": [
              "'This is a sentence said by Shashi Tharoor, and he is going to use worlds like entshuldiging and words imported from thesaurus which none of us can really understand. '"
            ]
          },
          "execution_count": 9,
          "metadata": {},
          "output_type": "execute_result"
        }
      ],
      "source": [
        "a"
      ]
    },
    {
      "cell_type": "code",
      "execution_count": 10,
      "metadata": {
        "cell_id": "00009-ae9d0aff-851c-4806-b1c1-b3c17bb8acf4",
        "deepnote_cell_type": "code",
        "deepnote_to_be_reexecuted": true,
        "execution_millis": 1,
        "execution_start": 1619848633966,
        "source_hash": "ace7ec61",
        "tags": []
      },
      "outputs": [],
      "source": [
        "a = [1, # roll number of the student\n",
        "    'c', # section of the class\n",
        "    'rohan', # name of the student\n",
        "    3 + 4j] #his answer to quiz"
      ]
    },
    {
      "cell_type": "code",
      "execution_count": 11,
      "metadata": {
        "cell_id": "00010-0934db7a-c332-446f-83bd-fc0f9ad07d56",
        "deepnote_cell_type": "code",
        "deepnote_to_be_reexecuted": true,
        "execution_millis": 23,
        "execution_start": 1619848637192,
        "source_hash": "ef4233c",
        "tags": []
      },
      "outputs": [
        {
          "data": {
            "text/plain": [
              "[1, 'c', 'rohan', (3+4j)]"
            ]
          },
          "execution_count": 11,
          "metadata": {},
          "output_type": "execute_result"
        }
      ],
      "source": [
        "a"
      ]
    },
    {
      "cell_type": "code",
      "execution_count": 12,
      "metadata": {
        "cell_id": "00011-089463c8-571d-45b7-b77f-ec462b720706",
        "deepnote_cell_type": "code",
        "deepnote_to_be_reexecuted": true,
        "execution_millis": 37,
        "execution_start": 1619848676429,
        "source_hash": "8d912309",
        "tags": []
      },
      "outputs": [
        {
          "ename": "SyntaxError",
          "evalue": "unexpected EOF while parsing (Temp/ipykernel_27696/1073507921.py, line 2)",
          "output_type": "error",
          "traceback": [
            "\u001b[1;36m  File \u001b[1;32m\"C:\\Users\\Admin\\AppData\\Local\\Temp/ipykernel_27696/1073507921.py\"\u001b[1;36m, line \u001b[1;32m2\u001b[0m\n\u001b[1;33m    2 #second element]\u001b[0m\n\u001b[1;37m                      ^\u001b[0m\n\u001b[1;31mSyntaxError\u001b[0m\u001b[1;31m:\u001b[0m unexpected EOF while parsing\n"
          ]
        }
      ],
      "source": [
        "a = [1, #first element\n",
        "2 #second element]"
      ]
    },
    {
      "cell_type": "code",
      "execution_count": 13,
      "metadata": {
        "cell_id": "00012-5fe0a8e2-2186-4bb1-957a-8144f7b2e49c",
        "deepnote_cell_type": "code",
        "deepnote_to_be_reexecuted": true,
        "execution_millis": 1,
        "execution_start": 1619848718730,
        "source_hash": "b246b29e",
        "tags": []
      },
      "outputs": [],
      "source": [
        "a = [1, #first element\n",
        "2] #second element"
      ]
    },
    {
      "cell_type": "code",
      "execution_count": 14,
      "metadata": {
        "cell_id": "00013-4d572279-a9cc-4b17-b3b4-b504f052367f",
        "deepnote_cell_type": "code",
        "deepnote_to_be_reexecuted": true,
        "execution_millis": 3,
        "execution_start": 1619848812677,
        "source_hash": "155b6542",
        "tags": []
      },
      "outputs": [],
      "source": [
        "l = [1, \"Roger\", 3.4, 4 + 3j]\n",
        "\n",
        "t = (1, 2, \"Andy\")\n",
        "\n",
        "s = { 1, 2, 3, 4}\n",
        "\n",
        "d = {\"key1\": \"Brian\", \"key2\": 182, \"key3\": \"Bangalore\"}"
      ]
    },
    {
      "cell_type": "code",
      "execution_count": 16,
      "metadata": {},
      "outputs": [
        {
          "name": "stdout",
          "output_type": "stream",
          "text": [
            "<class 'list'> <class 'tuple'> <class 'set'> <class 'dict'>\n"
          ]
        }
      ],
      "source": [
        "print(type(l), type(t), type(s), type(d))"
      ]
    },
    {
      "cell_type": "code",
      "execution_count": 15,
      "metadata": {
        "cell_id": "00014-2edf019e-6671-43be-a133-fdb07b608b32",
        "deepnote_cell_type": "code",
        "deepnote_to_be_reexecuted": true,
        "execution_millis": 32,
        "execution_start": 1619848884387,
        "source_hash": "515adc54",
        "tags": []
      },
      "outputs": [
        {
          "name": "stdout",
          "output_type": "stream",
          "text": [
            "[3, 'Roger', 3.4, (4+3j)]\n"
          ]
        }
      ],
      "source": [
        "l[0] = 3\n",
        "print(l)"
      ]
    },
    {
      "cell_type": "code",
      "execution_count": 17,
      "metadata": {
        "cell_id": "00015-d1f72c60-b322-4f0b-a5ee-655a6604245c",
        "deepnote_cell_type": "code",
        "deepnote_to_be_reexecuted": true,
        "execution_millis": 36,
        "execution_start": 1619848897154,
        "source_hash": "262cd7",
        "tags": []
      },
      "outputs": [
        {
          "ename": "TypeError",
          "evalue": "'tuple' object does not support item assignment",
          "output_type": "error",
          "traceback": [
            "\u001b[1;31m---------------------------------------------------------------------------\u001b[0m",
            "\u001b[1;31mTypeError\u001b[0m                                 Traceback (most recent call last)",
            "\u001b[1;32m~\\AppData\\Local\\Temp/ipykernel_27696/551508294.py\u001b[0m in \u001b[0;36m<module>\u001b[1;34m\u001b[0m\n\u001b[0;32m      1\u001b[0m \u001b[1;31m# Once tuple was initialized, elements can't be modified\u001b[0m\u001b[1;33m\u001b[0m\u001b[1;33m\u001b[0m\u001b[0m\n\u001b[1;32m----> 2\u001b[1;33m \u001b[0mt\u001b[0m\u001b[1;33m[\u001b[0m\u001b[1;36m0\u001b[0m\u001b[1;33m]\u001b[0m \u001b[1;33m=\u001b[0m \u001b[1;36m3\u001b[0m\u001b[1;33m\u001b[0m\u001b[1;33m\u001b[0m\u001b[0m\n\u001b[0m\u001b[0;32m      3\u001b[0m \u001b[0mprint\u001b[0m\u001b[1;33m(\u001b[0m\u001b[0mt\u001b[0m\u001b[1;33m)\u001b[0m\u001b[1;33m\u001b[0m\u001b[1;33m\u001b[0m\u001b[0m\n",
            "\u001b[1;31mTypeError\u001b[0m: 'tuple' object does not support item assignment"
          ]
        }
      ],
      "source": [
        "# Once tuple was initialized, elements can't be modified\n",
        "t[0] = 3\n",
        "print(t)"
      ]
    },
    {
      "cell_type": "code",
      "execution_count": 18,
      "metadata": {
        "cell_id": "00016-c28d7603-a652-4452-b5eb-ecd42af8847e",
        "deepnote_cell_type": "code",
        "deepnote_to_be_reexecuted": true,
        "execution_millis": 45,
        "execution_start": 1619848965853,
        "source_hash": "a43e0857",
        "tags": []
      },
      "outputs": [
        {
          "data": {
            "text/plain": [
              "(1, 2, 3)"
            ]
          },
          "execution_count": 18,
          "metadata": {},
          "output_type": "execute_result"
        }
      ],
      "source": [
        "a = (1, # first element\n",
        "    2, #second element\n",
        "    3, #third element\n",
        "    )\n",
        "    \n",
        "a"
      ]
    },
    {
      "cell_type": "code",
      "execution_count": 19,
      "metadata": {
        "cell_id": "00017-fe6ef861-0180-47b5-9c96-405dba97e4c0",
        "deepnote_cell_type": "code",
        "deepnote_to_be_reexecuted": true,
        "execution_millis": 8,
        "execution_start": 1619848972816,
        "source_hash": "340c91fe",
        "tags": []
      },
      "outputs": [],
      "source": [
        "a = {1, # first element\n",
        "    2, #second element\n",
        "    }"
      ]
    },
    {
      "cell_type": "code",
      "execution_count": 20,
      "metadata": {
        "cell_id": "00018-c7b649e9-ca90-4635-b067-f64ae67b23f5",
        "deepnote_cell_type": "code",
        "deepnote_to_be_reexecuted": true,
        "execution_millis": 35,
        "execution_start": 1619848975168,
        "source_hash": "ef4233c",
        "tags": []
      },
      "outputs": [
        {
          "data": {
            "text/plain": [
              "{1, 2}"
            ]
          },
          "execution_count": 20,
          "metadata": {},
          "output_type": "execute_result"
        }
      ],
      "source": [
        "a"
      ]
    },
    {
      "cell_type": "code",
      "execution_count": 21,
      "metadata": {
        "cell_id": "00019-a2a573d7-77a8-4b1b-b2bb-83d676844e63",
        "deepnote_cell_type": "code",
        "deepnote_to_be_reexecuted": true,
        "execution_millis": 0,
        "execution_start": 1619848983059,
        "source_hash": "30780faa",
        "tags": []
      },
      "outputs": [],
      "source": [
        "a = {'key1': 'value1', #comment,\n",
        "    'key2': #comment 'value2'\n",
        "    'value2' #comment\n",
        "    }"
      ]
    },
    {
      "cell_type": "code",
      "execution_count": null,
      "metadata": {
        "cell_id": "00020-292885f1-5028-4cd4-b9ce-5aef1f1814d5",
        "deepnote_cell_type": "code",
        "deepnote_to_be_reexecuted": true,
        "execution_millis": 24,
        "execution_start": 1619848985553,
        "source_hash": "ef4233c",
        "tags": []
      },
      "outputs": [
        {
          "data": {
            "text/plain": [
              "{'key1': 'value1', 'key2': 'value2'}"
            ]
          },
          "execution_count": 26,
          "metadata": {},
          "output_type": "execute_result"
        }
      ],
      "source": [
        "a"
      ]
    },
    {
      "cell_type": "code",
      "execution_count": 22,
      "metadata": {
        "cell_id": "00021-44d49bdb-3fd1-43b4-8f00-9a8450eddbea",
        "deepnote_cell_type": "code",
        "deepnote_to_be_reexecuted": true,
        "execution_millis": 33,
        "execution_start": 1619849046467,
        "source_hash": "a7c3ce0",
        "tags": []
      },
      "outputs": [
        {
          "name": "stdout",
          "output_type": "stream",
          "text": [
            "This is a combined section\n"
          ]
        }
      ],
      "source": [
        "def my_func():\n",
        "    print(\"This is a combined section\")\n",
        "\n",
        "my_func()"
      ]
    },
    {
      "cell_type": "code",
      "execution_count": 23,
      "metadata": {
        "cell_id": "00022-7541c482-8791-45a8-aef1-dd13996869fd",
        "deepnote_cell_type": "code",
        "deepnote_to_be_reexecuted": true,
        "execution_millis": 29,
        "execution_start": 1619849128335,
        "source_hash": "511fae55",
        "tags": []
      },
      "outputs": [
        {
          "name": "stdout",
          "output_type": "stream",
          "text": [
            "This is a combined section 3 rohan\n"
          ]
        }
      ],
      "source": [
        "def my_func(a, b):\n",
        "    print(\"This is a combined section\", a, b)\n",
        "\n",
        "my_func(3, \"rohan\")"
      ]
    },
    {
      "cell_type": "code",
      "execution_count": 24,
      "metadata": {
        "cell_id": "00023-1d6a255b-0531-4573-af27-5d5a7d22865a",
        "deepnote_cell_type": "code",
        "deepnote_to_be_reexecuted": true,
        "execution_millis": 26,
        "execution_start": 1619849229195,
        "source_hash": "9007743c",
        "tags": []
      },
      "outputs": [
        {
          "name": "stdout",
          "output_type": "stream",
          "text": [
            "This is a combined section 3 rohan\n"
          ]
        }
      ],
      "source": [
        "def my_func(a, # this is the roll number\n",
        "            b # this is the name of the student\n",
        "            ):\n",
        "    print(\"This is a combined section\", a, b)\n",
        "\n",
        "my_func(3, # this is the test roll number\n",
        "        \"rohan\" # this is the test name\n",
        "        )"
      ]
    },
    {
      "cell_type": "markdown",
      "metadata": {
        "cell_id": "00024-433e748b-6d64-4036-bf83-59f05db0fc2d",
        "deepnote_cell_type": "markdown",
        "tags": []
      },
      "source": [
        "### Explicit Examples"
      ]
    },
    {
      "cell_type": "code",
      "execution_count": 25,
      "metadata": {
        "cell_id": "00024-66987136-db77-4a76-80da-aba08eaa6816",
        "deepnote_cell_type": "code",
        "deepnote_to_be_reexecuted": true,
        "execution_millis": 67,
        "execution_start": 1619849357827,
        "source_hash": "b8b6c9e9",
        "tags": []
      },
      "outputs": [
        {
          "name": "stdout",
          "output_type": "stream",
          "text": [
            "Yes!!\n"
          ]
        }
      ],
      "source": [
        "# cond spans multi-line should ends with \\\n",
        "a = 10\n",
        "b = 2\n",
        "c = 30\n",
        "\n",
        "if a > 5 \\\n",
        "    and b < 10 \\\n",
        "    and c > 20:\n",
        "    print(\"Yes!!\")"
      ]
    },
    {
      "cell_type": "code",
      "execution_count": 26,
      "metadata": {
        "cell_id": "00026-5fd1fcd4-c99c-4b19-81fb-c74b6ee287b7",
        "deepnote_cell_type": "code",
        "deepnote_to_be_reexecuted": true,
        "execution_millis": 28,
        "execution_start": 1619849404972,
        "source_hash": "a2125f5e",
        "tags": []
      },
      "outputs": [
        {
          "name": "stdout",
          "output_type": "stream",
          "text": [
            "34\n"
          ]
        }
      ],
      "source": [
        "def my_func():\n",
        "    print(34)\n",
        "\n",
        "my_func()"
      ]
    },
    {
      "cell_type": "code",
      "execution_count": 27,
      "metadata": {
        "cell_id": "00027-df694453-8307-41d4-beb2-a92c1f93897d",
        "deepnote_cell_type": "code",
        "deepnote_to_be_reexecuted": true,
        "execution_millis": 53,
        "execution_start": 1619849416485,
        "source_hash": "59672d90",
        "tags": []
      },
      "outputs": [
        {
          "name": "stdout",
          "output_type": "stream",
          "text": [
            "Yes!!\n"
          ]
        }
      ],
      "source": [
        "a = 10\n",
        "b = 2\n",
        "c = 30\n",
        "\n",
        "if a > 5 \\\n",
        "                            and b < 10 \\\n",
        "                        and c > 20:\n",
        "    print(\"Yes!!\")"
      ]
    },
    {
      "cell_type": "markdown",
      "metadata": {},
      "source": [
        "### Multiline Strings with Triple Quotes\n",
        "A multiline string in Python begins and ends with either three single quotes or three double quotes. Any quotes, tabs, or newlines in between the “triple quotes” are considered part of the string. Python’s indentation rules for blocks do not apply to lines inside a multiline string."
      ]
    },
    {
      "cell_type": "code",
      "execution_count": 37,
      "metadata": {},
      "outputs": [
        {
          "name": "stdout",
          "output_type": "stream",
          "text": [
            "Dear Alice,\n",
            "\n",
            "Eve's cat has been arrested for catnapping, cat burglary, and extortion.\n",
            "\n",
            "Sincerely,\n",
            "Bob\n"
          ]
        }
      ],
      "source": [
        "print('''Dear Alice,\n",
        "\n",
        "Eve's cat has been arrested for catnapping, cat burglary, and extortion.\n",
        "\n",
        "Sincerely,\n",
        "Bob''')"
      ]
    },
    {
      "cell_type": "code",
      "execution_count": 38,
      "metadata": {},
      "outputs": [
        {
          "ename": "SyntaxError",
          "evalue": "EOL while scanning string literal (Temp/ipykernel_27696/844082699.py, line 1)",
          "output_type": "error",
          "traceback": [
            "\u001b[1;36m  File \u001b[1;32m\"C:\\Users\\Admin\\AppData\\Local\\Temp/ipykernel_27696/844082699.py\"\u001b[1;36m, line \u001b[1;32m1\u001b[0m\n\u001b[1;33m    print('Dear Alice,\\n\\nEve\\'s cat has been arrested for catnapping, cat\u001b[0m\n\u001b[1;37m                                                                          ^\u001b[0m\n\u001b[1;31mSyntaxError\u001b[0m\u001b[1;31m:\u001b[0m EOL while scanning string literal\n"
          ]
        }
      ],
      "source": [
        "print('Dear Alice,\\n\\nEve\\'s cat has been arrested for catnapping, cat\n",
        "burglary, and extortion.\\n\\nSincerely,\\nBob')"
      ]
    },
    {
      "cell_type": "code",
      "execution_count": 40,
      "metadata": {},
      "outputs": [
        {
          "name": "stdout",
          "output_type": "stream",
          "text": [
            "hi! how are you doing now? What's the time now!\n"
          ]
        }
      ],
      "source": [
        "## Raw string\n",
        "print(r\"hi! how are you doing now? What's the time now!\")"
      ]
    },
    {
      "cell_type": "code",
      "execution_count": 41,
      "metadata": {
        "cell_id": "00028-f11a625e-dbf6-44c9-8747-e8997e3d2f74",
        "deepnote_cell_type": "code",
        "deepnote_to_be_reexecuted": true,
        "execution_millis": 1,
        "execution_start": 1619849435919,
        "source_hash": "5d18b9eb",
        "tags": []
      },
      "outputs": [],
      "source": [
        "a = \"This is a sentence said by Shashi Tharoor, and he is going to use worlds like entshuldiging and words \\\n",
        "     imported from thesaurus which none of us can really understand. \""
      ]
    },
    {
      "cell_type": "code",
      "execution_count": 32,
      "metadata": {},
      "outputs": [
        {
          "data": {
            "text/plain": [
              "'This is a sentence said by Shashi Tharoor, and he is going to use worlds like entshuldiging and words      imported from thesaurus which none of us can really understand. '"
            ]
          },
          "execution_count": 32,
          "metadata": {},
          "output_type": "execute_result"
        }
      ],
      "source": [
        "a"
      ]
    },
    {
      "cell_type": "code",
      "execution_count": 42,
      "metadata": {
        "cell_id": "00029-08a5e730-427c-4734-b36d-10698766146b",
        "deepnote_cell_type": "code",
        "deepnote_to_be_reexecuted": true,
        "execution_millis": 33,
        "execution_start": 1619849462871,
        "source_hash": "af8f57f0",
        "tags": []
      },
      "outputs": [
        {
          "data": {
            "text/plain": [
              "'this is a multi\\nline statement'"
            ]
          },
          "execution_count": 42,
          "metadata": {},
          "output_type": "execute_result"
        }
      ],
      "source": [
        "a = '''this is a multi\n",
        "line statement'''\n",
        "a"
      ]
    },
    {
      "cell_type": "code",
      "execution_count": 43,
      "metadata": {
        "cell_id": "00030-4c0c3531-cfd4-4693-8423-93fb1d25d73b",
        "deepnote_cell_type": "code",
        "deepnote_to_be_reexecuted": true,
        "execution_millis": 40,
        "execution_start": 1619849471866,
        "source_hash": "3791362",
        "tags": []
      },
      "outputs": [
        {
          "name": "stdout",
          "output_type": "stream",
          "text": [
            "this is a multi\n",
            "line statement\n"
          ]
        }
      ],
      "source": [
        "print(a)"
      ]
    },
    {
      "cell_type": "code",
      "execution_count": 44,
      "metadata": {
        "cell_id": "00031-cd5e546b-ab71-4d7a-8fef-a6d33f1d547f",
        "deepnote_cell_type": "code",
        "deepnote_to_be_reexecuted": true,
        "execution_millis": 46,
        "execution_start": 1619849502251,
        "source_hash": "b9a178da",
        "tags": []
      },
      "outputs": [
        {
          "data": {
            "text/plain": [
              "'this is a multi\\nline statement'"
            ]
          },
          "execution_count": 44,
          "metadata": {},
          "output_type": "execute_result"
        }
      ],
      "source": [
        "a = \"\"\"this is a multi\n",
        "line statement\"\"\"\n",
        "a"
      ]
    },
    {
      "cell_type": "code",
      "execution_count": 45,
      "metadata": {},
      "outputs": [
        {
          "name": "stdout",
          "output_type": "stream",
          "text": [
            "this is a multi\n",
            "line statement\n"
          ]
        }
      ],
      "source": [
        "print(a)"
      ]
    },
    {
      "cell_type": "code",
      "execution_count": 46,
      "metadata": {
        "cell_id": "00032-b1f7327b-ff32-434c-9b49-6b650018e6c8",
        "deepnote_cell_type": "code",
        "deepnote_to_be_reexecuted": true,
        "execution_millis": 28,
        "execution_start": 1619849626328,
        "source_hash": "f4f28c2d",
        "tags": []
      },
      "outputs": [
        {
          "data": {
            "text/plain": [
              "'sime items:\\n\\n        1. item 1\\n        2. item 2'"
            ]
          },
          "execution_count": 46,
          "metadata": {},
          "output_type": "execute_result"
        }
      ],
      "source": [
        "a = \"\"\"sime items:\\n\n",
        "        1. item 1\n",
        "        2. item 2\"\"\"\n",
        "a"
      ]
    },
    {
      "cell_type": "code",
      "execution_count": 47,
      "metadata": {
        "cell_id": "00033-35c0152c-9253-45f6-93f4-c49038a75ad5",
        "deepnote_cell_type": "code",
        "deepnote_to_be_reexecuted": true,
        "execution_millis": 28,
        "execution_start": 1619849626696,
        "source_hash": "3791362",
        "tags": []
      },
      "outputs": [
        {
          "name": "stdout",
          "output_type": "stream",
          "text": [
            "sime items:\n",
            "\n",
            "        1. item 1\n",
            "        2. item 2\n"
          ]
        }
      ],
      "source": [
        "print(a)"
      ]
    },
    {
      "cell_type": "code",
      "execution_count": 48,
      "metadata": {
        "cell_id": "00034-464e3417-3245-4b95-8aaf-b2b65d8c6ed5",
        "deepnote_cell_type": "code",
        "deepnote_to_be_reexecuted": true,
        "execution_millis": 37,
        "execution_start": 1619849663256,
        "source_hash": "c2444663",
        "tags": []
      },
      "outputs": [
        {
          "name": "stdout",
          "output_type": "stream",
          "text": [
            "a multi-line string\n",
            "    that is actually indented in the second line\n"
          ]
        }
      ],
      "source": [
        "def my_func():\n",
        "    a = '''a multi-line string\n",
        "    that is actually indented in the second line'''\n",
        "    return a\n",
        "\n",
        "print(my_func())"
      ]
    },
    {
      "cell_type": "code",
      "execution_count": 49,
      "metadata": {
        "cell_id": "00035-f3d7f004-84ee-4936-9102-b94e271d2238",
        "deepnote_cell_type": "code",
        "deepnote_to_be_reexecuted": true,
        "execution_millis": 82,
        "execution_start": 1619849708261,
        "source_hash": "cb320065",
        "tags": []
      },
      "outputs": [
        {
          "data": {
            "text/plain": [
              "'this is a class and i am \\nrecording some details about this class\\n\\nPARAM: int\\nVARIABLE: float\\n'"
            ]
          },
          "execution_count": 49,
          "metadata": {},
          "output_type": "execute_result"
        }
      ],
      "source": [
        "\"\"\"this is a class and i am \n",
        "recording some details about this class\n",
        "\n",
        "PARAM: int\n",
        "VARIABLE: float\n",
        "\"\"\""
      ]
    },
    {
      "cell_type": "markdown",
      "metadata": {
        "cell_id": "00036-bf07104c-2264-4d86-98cd-97f4aa03137b",
        "deepnote_cell_type": "markdown",
        "tags": []
      },
      "source": [
        "# Conditionals"
      ]
    },
    {
      "cell_type": "code",
      "execution_count": 50,
      "metadata": {
        "cell_id": "00036-0a8c0343-828e-4678-ba67-302758236d38",
        "deepnote_cell_type": "code",
        "deepnote_to_be_reexecuted": true,
        "execution_millis": 42,
        "execution_start": 1619850155523,
        "source_hash": "2e22e6a0",
        "tags": []
      },
      "outputs": [
        {
          "name": "stdout",
          "output_type": "stream",
          "text": [
            "a>3\n"
          ]
        }
      ],
      "source": [
        "# if, else, elif, ternary\n",
        "\n",
        "a = 4\n",
        "if a< 3:\n",
        "    print('a<3')\n",
        "else: \n",
        "    print('a>3')"
      ]
    },
    {
      "cell_type": "code",
      "execution_count": 52,
      "metadata": {
        "cell_id": "00038-8ffaee01-42f9-41f2-a11e-9ddc10c38f1a",
        "deepnote_cell_type": "code",
        "deepnote_to_be_reexecuted": true,
        "execution_millis": 24,
        "execution_start": 1619850205650,
        "source_hash": "9c960691",
        "tags": []
      },
      "outputs": [
        {
          "name": "stdout",
          "output_type": "stream",
          "text": [
            "a >= 10\n"
          ]
        }
      ],
      "source": [
        "a = 15\n",
        "\n",
        "if a < 5:\n",
        "    print('a < 5')\n",
        "else:\n",
        "    if a < 10:\n",
        "        print('5 <= a < 10')\n",
        "    else:\n",
        "        print('a >= 10')"
      ]
    },
    {
      "cell_type": "code",
      "execution_count": 53,
      "metadata": {
        "cell_id": "00039-6ef03546-d7c1-4e12-843a-8775b33a5bf2",
        "deepnote_cell_type": "code",
        "deepnote_to_be_reexecuted": true,
        "execution_millis": 25,
        "execution_start": 1619850303499,
        "source_hash": "395cccb1",
        "tags": []
      },
      "outputs": [
        {
          "name": "stdout",
          "output_type": "stream",
          "text": [
            " a is less greater than five and less than 10\n"
          ]
        }
      ],
      "source": [
        "# 5 < a < 10\n",
        "\n",
        "a = 7\n",
        "\n",
        "if a < 5:\n",
        "    print(\"a is less than five\")\n",
        "elif a < 10:\n",
        "    print(\" a is less greater than five and less than 10\")\n",
        "else:\n",
        "    print(\"a is geater than 10\")"
      ]
    },
    {
      "cell_type": "code",
      "execution_count": 54,
      "metadata": {
        "cell_id": "00040-050deac1-0760-437a-ae0c-5eee5255843e",
        "deepnote_cell_type": "code",
        "deepnote_to_be_reexecuted": true,
        "execution_millis": 24,
        "execution_start": 1619850445953,
        "source_hash": "b821b308",
        "tags": []
      },
      "outputs": [
        {
          "data": {
            "text/plain": [
              "'a is less than 10'"
            ]
          },
          "execution_count": 54,
          "metadata": {},
          "output_type": "execute_result"
        }
      ],
      "source": [
        "# do X if (condition is met) else do Y\n",
        "\n",
        "a = 5\n",
        "\n",
        "result = 'a is less than 10' if a < 10 else \"a is not less than ten\"\n",
        "\n",
        "result"
      ]
    },
    {
      "cell_type": "code",
      "execution_count": 55,
      "metadata": {
        "cell_id": "00041-a60bb6c8-d17e-4111-9146-2ae2a10e2138",
        "deepnote_cell_type": "code",
        "deepnote_to_be_reexecuted": true,
        "execution_millis": 4,
        "execution_start": 1619850478818,
        "source_hash": "fef5b983",
        "tags": []
      },
      "outputs": [],
      "source": [
        "def say_hello():\n",
        "    print('Hello!')\n",
        "    \n",
        "def say_goodbye():\n",
        "    print('Goodbye!')"
      ]
    },
    {
      "cell_type": "code",
      "execution_count": 56,
      "metadata": {
        "cell_id": "00042-1d80fb84-de64-464a-a557-d7e09ef4f958",
        "deepnote_cell_type": "code",
        "deepnote_to_be_reexecuted": true,
        "execution_millis": 44,
        "execution_start": 1619850502506,
        "source_hash": "57914f95",
        "tags": []
      },
      "outputs": [
        {
          "name": "stdout",
          "output_type": "stream",
          "text": [
            "Hello!\n"
          ]
        }
      ],
      "source": [
        "a = 5\n",
        "\n",
        "say_hello() if a < 10 else say_goodbye()"
      ]
    },
    {
      "cell_type": "markdown",
      "metadata": {
        "cell_id": "00043-ba88a34b-511f-459b-bbf0-516910095da3",
        "deepnote_cell_type": "markdown",
        "tags": []
      },
      "source": [
        "## Functions"
      ]
    },
    {
      "cell_type": "code",
      "execution_count": 57,
      "metadata": {
        "cell_id": "00043-5c32e1bb-b699-41e6-8733-5cd9d2e962b3",
        "deepnote_cell_type": "code",
        "deepnote_to_be_reexecuted": true,
        "execution_millis": 42,
        "execution_start": 1619850573176,
        "source_hash": "b0e63c1c",
        "tags": []
      },
      "outputs": [
        {
          "data": {
            "text/plain": [
              "3"
            ]
          },
          "execution_count": 57,
          "metadata": {},
          "output_type": "execute_result"
        }
      ],
      "source": [
        "s = [1, 2, 3]\n",
        "len(s)"
      ]
    },
    {
      "cell_type": "code",
      "execution_count": 58,
      "metadata": {
        "cell_id": "00045-67db883c-483e-423f-bf21-1a133c41c318",
        "deepnote_cell_type": "code",
        "deepnote_to_be_reexecuted": true,
        "execution_millis": 35,
        "execution_start": 1619850595520,
        "source_hash": "d823bd59",
        "tags": []
      },
      "outputs": [
        {
          "ename": "NameError",
          "evalue": "name 'sqrt' is not defined",
          "output_type": "error",
          "traceback": [
            "\u001b[1;31m---------------------------------------------------------------------------\u001b[0m",
            "\u001b[1;31mNameError\u001b[0m                                 Traceback (most recent call last)",
            "\u001b[1;32m~\\AppData\\Local\\Temp/ipykernel_27696/1103852951.py\u001b[0m in \u001b[0;36m<module>\u001b[1;34m\u001b[0m\n\u001b[1;32m----> 1\u001b[1;33m \u001b[0msqrt\u001b[0m\u001b[1;33m(\u001b[0m\u001b[1;36m4\u001b[0m\u001b[1;33m)\u001b[0m\u001b[1;33m\u001b[0m\u001b[1;33m\u001b[0m\u001b[0m\n\u001b[0m",
            "\u001b[1;31mNameError\u001b[0m: name 'sqrt' is not defined"
          ]
        }
      ],
      "source": [
        "sqrt(4)"
      ]
    },
    {
      "cell_type": "code",
      "execution_count": 59,
      "metadata": {
        "cell_id": "00046-f35cf93e-d3b6-40a6-8198-4d2fc3867879",
        "deepnote_cell_type": "code",
        "deepnote_to_be_reexecuted": true,
        "execution_millis": 43,
        "execution_start": 1619850653009,
        "source_hash": "887ad7a6",
        "tags": []
      },
      "outputs": [
        {
          "data": {
            "text/plain": [
              "2.0"
            ]
          },
          "execution_count": 59,
          "metadata": {},
          "output_type": "execute_result"
        }
      ],
      "source": [
        "from math import sqrt\n",
        "\n",
        "sqrt(4)"
      ]
    },
    {
      "cell_type": "code",
      "execution_count": 60,
      "metadata": {
        "cell_id": "00047-7be4c0d7-9847-4a80-b11e-90b4d9b3c281",
        "deepnote_cell_type": "code",
        "deepnote_to_be_reexecuted": true,
        "execution_millis": 0,
        "execution_start": 1619850667608,
        "source_hash": "ff143fe",
        "tags": []
      },
      "outputs": [],
      "source": [
        "import math"
      ]
    },
    {
      "cell_type": "code",
      "execution_count": 61,
      "metadata": {
        "cell_id": "00048-dac35ce8-911d-4c64-a603-f6ef64c1392a",
        "deepnote_cell_type": "code",
        "deepnote_to_be_reexecuted": true,
        "execution_millis": 32,
        "execution_start": 1619850692530,
        "source_hash": "b683747e",
        "tags": []
      },
      "outputs": [
        {
          "data": {
            "text/plain": [
              "2.718281828459045"
            ]
          },
          "execution_count": 61,
          "metadata": {},
          "output_type": "execute_result"
        }
      ],
      "source": [
        "math.exp(1)"
      ]
    },
    {
      "cell_type": "code",
      "execution_count": 62,
      "metadata": {
        "cell_id": "00049-d1ba412c-ec3b-41e4-8d66-bbb873472dcd",
        "deepnote_cell_type": "code",
        "deepnote_to_be_reexecuted": true,
        "execution_millis": 42,
        "execution_start": 1619850703318,
        "source_hash": "fd5b2664",
        "tags": []
      },
      "outputs": [
        {
          "data": {
            "text/plain": [
              "0.0"
            ]
          },
          "execution_count": 62,
          "metadata": {},
          "output_type": "execute_result"
        }
      ],
      "source": [
        "math.sin(0)"
      ]
    },
    {
      "cell_type": "code",
      "execution_count": 63,
      "metadata": {
        "cell_id": "00050-581a6fc5-1efe-4ea5-b69c-4bf5c533a188",
        "deepnote_cell_type": "code",
        "deepnote_to_be_reexecuted": true,
        "execution_millis": 26,
        "execution_start": 1619850824132,
        "source_hash": "58408a1c",
        "tags": []
      },
      "outputs": [
        {
          "name": "stdout",
          "output_type": "stream",
          "text": [
            "running func1\n"
          ]
        }
      ],
      "source": [
        "def func_1():\n",
        "    print(\"running func1\")\n",
        "\n",
        "func_1() # calling or invoking"
      ]
    },
    {
      "cell_type": "code",
      "execution_count": 64,
      "metadata": {
        "cell_id": "00051-94b50f66-214f-4d58-b0d2-3f36bd392d67",
        "deepnote_cell_type": "code",
        "deepnote_to_be_reexecuted": true,
        "execution_millis": 26,
        "execution_start": 1619850845189,
        "source_hash": "ff652b99",
        "tags": []
      },
      "outputs": [
        {
          "data": {
            "text/plain": [
              "<function __main__.func_1()>"
            ]
          },
          "execution_count": 64,
          "metadata": {},
          "output_type": "execute_result"
        }
      ],
      "source": [
        "func_1"
      ]
    },
    {
      "cell_type": "code",
      "execution_count": 65,
      "metadata": {
        "cell_id": "00052-9af73510-7113-44ab-8a89-10c755ec764d",
        "deepnote_cell_type": "code",
        "deepnote_to_be_reexecuted": true,
        "execution_millis": 22,
        "execution_start": 1619851088955,
        "source_hash": "7fdd57f3",
        "tags": []
      },
      "outputs": [
        {
          "name": "stdout",
          "output_type": "stream",
          "text": [
            "running func2 10 1\n"
          ]
        }
      ],
      "source": [
        "def func_2(a, b):\n",
        "    print(\"running func2\", a, b)\n",
        "\n",
        "func_2(10, 1)"
      ]
    },
    {
      "cell_type": "code",
      "execution_count": 66,
      "metadata": {
        "cell_id": "00053-9c4dc088-77a8-4a51-93a0-bc6ec86e08ff",
        "deepnote_cell_type": "code",
        "deepnote_to_be_reexecuted": true,
        "execution_millis": 20,
        "execution_start": 1619851205864,
        "source_hash": "6461c1d4",
        "tags": []
      },
      "outputs": [
        {
          "ename": "TypeError",
          "evalue": "can't multiply sequence by non-int of type 'str'",
          "output_type": "error",
          "traceback": [
            "\u001b[1;31m---------------------------------------------------------------------------\u001b[0m",
            "\u001b[1;31mTypeError\u001b[0m                                 Traceback (most recent call last)",
            "\u001b[1;32m~\\AppData\\Local\\Temp/ipykernel_27696/1996785692.py\u001b[0m in \u001b[0;36m<module>\u001b[1;34m\u001b[0m\n\u001b[0;32m      2\u001b[0m     \u001b[1;32mreturn\u001b[0m \u001b[0ma\u001b[0m \u001b[1;33m*\u001b[0m \u001b[0mb\u001b[0m\u001b[1;33m\u001b[0m\u001b[1;33m\u001b[0m\u001b[0m\n\u001b[0;32m      3\u001b[0m \u001b[1;33m\u001b[0m\u001b[0m\n\u001b[1;32m----> 4\u001b[1;33m \u001b[0mfunc_2\u001b[0m\u001b[1;33m(\u001b[0m\u001b[1;34m\"hillary\"\u001b[0m\u001b[1;33m,\u001b[0m \u001b[1;34m\"bush\"\u001b[0m\u001b[1;33m)\u001b[0m\u001b[1;33m\u001b[0m\u001b[1;33m\u001b[0m\u001b[0m\n\u001b[0m",
            "\u001b[1;32m~\\AppData\\Local\\Temp/ipykernel_27696/1996785692.py\u001b[0m in \u001b[0;36mfunc_2\u001b[1;34m(a, b)\u001b[0m\n\u001b[0;32m      1\u001b[0m \u001b[1;32mdef\u001b[0m \u001b[0mfunc_2\u001b[0m\u001b[1;33m(\u001b[0m\u001b[0ma\u001b[0m\u001b[1;33m,\u001b[0m \u001b[0mb\u001b[0m\u001b[1;33m)\u001b[0m\u001b[1;33m:\u001b[0m\u001b[1;33m\u001b[0m\u001b[1;33m\u001b[0m\u001b[0m\n\u001b[1;32m----> 2\u001b[1;33m     \u001b[1;32mreturn\u001b[0m \u001b[0ma\u001b[0m \u001b[1;33m*\u001b[0m \u001b[0mb\u001b[0m\u001b[1;33m\u001b[0m\u001b[1;33m\u001b[0m\u001b[0m\n\u001b[0m\u001b[0;32m      3\u001b[0m \u001b[1;33m\u001b[0m\u001b[0m\n\u001b[0;32m      4\u001b[0m \u001b[0mfunc_2\u001b[0m\u001b[1;33m(\u001b[0m\u001b[1;34m\"hillary\"\u001b[0m\u001b[1;33m,\u001b[0m \u001b[1;34m\"bush\"\u001b[0m\u001b[1;33m)\u001b[0m\u001b[1;33m\u001b[0m\u001b[1;33m\u001b[0m\u001b[0m\n",
            "\u001b[1;31mTypeError\u001b[0m: can't multiply sequence by non-int of type 'str'"
          ]
        }
      ],
      "source": [
        "def func_2(a, b):\n",
        "    return a * b\n",
        "\n",
        "func_2(\"hillary\", \"bush\")"
      ]
    },
    {
      "cell_type": "code",
      "execution_count": 67,
      "metadata": {
        "cell_id": "00054-1546a028-196e-4053-ae00-a76b79fe19f7",
        "deepnote_cell_type": "code",
        "deepnote_to_be_reexecuted": true,
        "execution_millis": 55,
        "execution_start": 1619851292454,
        "source_hash": "12866194",
        "tags": []
      },
      "outputs": [
        {
          "ename": "TypeError",
          "evalue": "can't multiply sequence by non-int of type 'str'",
          "output_type": "error",
          "traceback": [
            "\u001b[1;31m---------------------------------------------------------------------------\u001b[0m",
            "\u001b[1;31mTypeError\u001b[0m                                 Traceback (most recent call last)",
            "\u001b[1;32m~\\AppData\\Local\\Temp/ipykernel_27696/1379283839.py\u001b[0m in \u001b[0;36m<module>\u001b[1;34m\u001b[0m\n\u001b[0;32m      2\u001b[0m     \u001b[1;32mreturn\u001b[0m \u001b[0ma\u001b[0m \u001b[1;33m*\u001b[0m \u001b[0mb\u001b[0m\u001b[1;33m\u001b[0m\u001b[1;33m\u001b[0m\u001b[0m\n\u001b[0;32m      3\u001b[0m \u001b[1;33m\u001b[0m\u001b[0m\n\u001b[1;32m----> 4\u001b[1;33m \u001b[0mfunc_2\u001b[0m\u001b[1;33m(\u001b[0m\u001b[1;34m\"rohan\"\u001b[0m\u001b[1;33m,\u001b[0m \u001b[1;34m\"shravan\"\u001b[0m\u001b[1;33m)\u001b[0m\u001b[1;33m\u001b[0m\u001b[1;33m\u001b[0m\u001b[0m\n\u001b[0m",
            "\u001b[1;32m~\\AppData\\Local\\Temp/ipykernel_27696/1379283839.py\u001b[0m in \u001b[0;36mfunc_2\u001b[1;34m(a, b)\u001b[0m\n\u001b[0;32m      1\u001b[0m \u001b[1;32mdef\u001b[0m \u001b[0mfunc_2\u001b[0m\u001b[1;33m(\u001b[0m\u001b[0ma\u001b[0m\u001b[1;33m:\u001b[0m \u001b[0mint\u001b[0m\u001b[1;33m,\u001b[0m \u001b[0mb\u001b[0m\u001b[1;33m:\u001b[0m \u001b[0mint\u001b[0m\u001b[1;33m)\u001b[0m\u001b[1;33m:\u001b[0m \u001b[1;31m#type annotations\u001b[0m\u001b[1;33m\u001b[0m\u001b[1;33m\u001b[0m\u001b[0m\n\u001b[1;32m----> 2\u001b[1;33m     \u001b[1;32mreturn\u001b[0m \u001b[0ma\u001b[0m \u001b[1;33m*\u001b[0m \u001b[0mb\u001b[0m\u001b[1;33m\u001b[0m\u001b[1;33m\u001b[0m\u001b[0m\n\u001b[0m\u001b[0;32m      3\u001b[0m \u001b[1;33m\u001b[0m\u001b[0m\n\u001b[0;32m      4\u001b[0m \u001b[0mfunc_2\u001b[0m\u001b[1;33m(\u001b[0m\u001b[1;34m\"rohan\"\u001b[0m\u001b[1;33m,\u001b[0m \u001b[1;34m\"shravan\"\u001b[0m\u001b[1;33m)\u001b[0m\u001b[1;33m\u001b[0m\u001b[1;33m\u001b[0m\u001b[0m\n",
            "\u001b[1;31mTypeError\u001b[0m: can't multiply sequence by non-int of type 'str'"
          ]
        }
      ],
      "source": [
        "def func_2(a: int, b: int): #type annotations\n",
        "    return a * b\n",
        "\n",
        "func_2(\"rohan\", \"shravan\")"
      ]
    },
    {
      "cell_type": "code",
      "execution_count": 68,
      "metadata": {
        "cell_id": "00055-9235d99a-0700-4ff3-925a-b2230585eebf",
        "deepnote_cell_type": "code",
        "deepnote_to_be_reexecuted": true,
        "execution_millis": 24,
        "execution_start": 1619851357129,
        "source_hash": "8b6290ff",
        "tags": []
      },
      "outputs": [
        {
          "name": "stdout",
          "output_type": "stream",
          "text": [
            "3\n"
          ]
        }
      ],
      "source": [
        "a = 3\n",
        "b = a\n",
        "print(b)"
      ]
    },
    {
      "cell_type": "code",
      "execution_count": 69,
      "metadata": {
        "cell_id": "00056-7bddf295-d1a7-46c0-9125-c09a86b2b181",
        "deepnote_cell_type": "code",
        "deepnote_to_be_reexecuted": true,
        "execution_millis": 44,
        "execution_start": 1619851373723,
        "source_hash": "c64bd96b",
        "tags": []
      },
      "outputs": [
        {
          "data": {
            "text/plain": [
              "30"
            ]
          },
          "execution_count": 69,
          "metadata": {},
          "output_type": "execute_result"
        }
      ],
      "source": [
        "func_3 = func_2\n",
        "\n",
        "func_3(10, 3)"
      ]
    },
    {
      "cell_type": "code",
      "execution_count": 70,
      "metadata": {
        "cell_id": "00057-3d45e5a5-ec2d-4d33-8e54-d43d28dfef41",
        "deepnote_cell_type": "code",
        "deepnote_to_be_reexecuted": true,
        "execution_millis": 32,
        "execution_start": 1619851483782,
        "source_hash": "6feab6c0",
        "tags": []
      },
      "outputs": [
        {
          "name": "stdout",
          "output_type": "stream",
          "text": [
            "None\n"
          ]
        }
      ],
      "source": [
        "def my_func(a, b):\n",
        "    pass\n",
        "\n",
        "result = my_func(10, 20)\n",
        "print(result)"
      ]
    },
    {
      "cell_type": "code",
      "execution_count": 71,
      "metadata": {
        "cell_id": "00058-a9055e15-61da-4f6b-894c-72a8386d6f7e",
        "deepnote_cell_type": "code",
        "deepnote_to_be_reexecuted": true,
        "execution_millis": 24,
        "execution_start": 1619851615241,
        "source_hash": "9fef614",
        "tags": []
      },
      "outputs": [
        {
          "ename": "NameError",
          "evalue": "name 'fn_22' is not defined",
          "output_type": "error",
          "traceback": [
            "\u001b[1;31m---------------------------------------------------------------------------\u001b[0m",
            "\u001b[1;31mNameError\u001b[0m                                 Traceback (most recent call last)",
            "\u001b[1;32m~\\AppData\\Local\\Temp/ipykernel_27696/330809896.py\u001b[0m in \u001b[0;36m<module>\u001b[1;34m\u001b[0m\n\u001b[0;32m      2\u001b[0m     \u001b[0mfn_22\u001b[0m\u001b[1;33m(\u001b[0m\u001b[1;33m)\u001b[0m\u001b[1;33m\u001b[0m\u001b[1;33m\u001b[0m\u001b[0m\n\u001b[0;32m      3\u001b[0m \u001b[1;33m\u001b[0m\u001b[0m\n\u001b[1;32m----> 4\u001b[1;33m \u001b[0mfn_11\u001b[0m\u001b[1;33m(\u001b[0m\u001b[1;33m)\u001b[0m\u001b[1;33m\u001b[0m\u001b[1;33m\u001b[0m\u001b[0m\n\u001b[0m\u001b[0;32m      5\u001b[0m \u001b[1;33m\u001b[0m\u001b[0m\n\u001b[0;32m      6\u001b[0m \u001b[1;32mdef\u001b[0m \u001b[0mfn_22\u001b[0m\u001b[1;33m(\u001b[0m\u001b[1;33m)\u001b[0m\u001b[1;33m:\u001b[0m\u001b[1;33m\u001b[0m\u001b[1;33m\u001b[0m\u001b[0m\n",
            "\u001b[1;32m~\\AppData\\Local\\Temp/ipykernel_27696/330809896.py\u001b[0m in \u001b[0;36mfn_11\u001b[1;34m()\u001b[0m\n\u001b[0;32m      1\u001b[0m \u001b[1;32mdef\u001b[0m \u001b[0mfn_11\u001b[0m\u001b[1;33m(\u001b[0m\u001b[1;33m)\u001b[0m\u001b[1;33m:\u001b[0m\u001b[1;33m\u001b[0m\u001b[1;33m\u001b[0m\u001b[0m\n\u001b[1;32m----> 2\u001b[1;33m     \u001b[0mfn_22\u001b[0m\u001b[1;33m(\u001b[0m\u001b[1;33m)\u001b[0m\u001b[1;33m\u001b[0m\u001b[1;33m\u001b[0m\u001b[0m\n\u001b[0m\u001b[0;32m      3\u001b[0m \u001b[1;33m\u001b[0m\u001b[0m\n\u001b[0;32m      4\u001b[0m \u001b[0mfn_11\u001b[0m\u001b[1;33m(\u001b[0m\u001b[1;33m)\u001b[0m\u001b[1;33m\u001b[0m\u001b[1;33m\u001b[0m\u001b[0m\n\u001b[0;32m      5\u001b[0m \u001b[1;33m\u001b[0m\u001b[0m\n",
            "\u001b[1;31mNameError\u001b[0m: name 'fn_22' is not defined"
          ]
        }
      ],
      "source": [
        "def fn_11():\n",
        "    fn_22()\n",
        "\n",
        "fn_11()\n",
        "\n",
        "def fn_22():\n",
        "    print(\"Hello\")\n",
        "\n",
        "\n"
      ]
    },
    {
      "cell_type": "code",
      "execution_count": 72,
      "metadata": {
        "cell_id": "00059-629eef30-fcd4-4b5f-a6e4-8b1f3a82228b",
        "deepnote_cell_type": "code",
        "deepnote_to_be_reexecuted": true,
        "execution_millis": 0,
        "execution_start": 1619851650954,
        "source_hash": "fcf8f4f3",
        "tags": []
      },
      "outputs": [
        {
          "name": "stdout",
          "output_type": "stream",
          "text": [
            "Hello\n"
          ]
        }
      ],
      "source": [
        "def fn_1():\n",
        "    fn_2()\n",
        "    \n",
        "def fn_2():\n",
        "    print('Hello')\n",
        "    \n",
        "fn_1()"
      ]
    },
    {
      "cell_type": "code",
      "execution_count": 73,
      "metadata": {
        "cell_id": "00060-69a22329-9e9a-4232-a51a-25ab3254d40b",
        "deepnote_cell_type": "code",
        "deepnote_to_be_reexecuted": true,
        "execution_millis": 22,
        "execution_start": 1619851806807,
        "source_hash": "b2a07012",
        "tags": []
      },
      "outputs": [
        {
          "ename": "TypeError",
          "evalue": "'int' object is not callable",
          "output_type": "error",
          "traceback": [
            "\u001b[1;31m---------------------------------------------------------------------------\u001b[0m",
            "\u001b[1;31mTypeError\u001b[0m                                 Traceback (most recent call last)",
            "\u001b[1;32m~\\AppData\\Local\\Temp/ipykernel_27696/3534996951.py\u001b[0m in \u001b[0;36m<module>\u001b[1;34m\u001b[0m\n\u001b[0;32m      9\u001b[0m \u001b[0mrohan\u001b[0m \u001b[1;33m=\u001b[0m \u001b[1;36m6\u001b[0m\u001b[1;33m\u001b[0m\u001b[1;33m\u001b[0m\u001b[0m\n\u001b[0;32m     10\u001b[0m \u001b[1;33m\u001b[0m\u001b[0m\n\u001b[1;32m---> 11\u001b[1;33m \u001b[0mrohan\u001b[0m\u001b[1;33m(\u001b[0m\u001b[1;36m1\u001b[0m\u001b[1;33m,\u001b[0m \u001b[1;36m3\u001b[0m\u001b[1;33m)\u001b[0m\u001b[1;33m\u001b[0m\u001b[1;33m\u001b[0m\u001b[0m\n\u001b[0m",
            "\u001b[1;31mTypeError\u001b[0m: 'int' object is not callable"
          ]
        }
      ],
      "source": [
        "# lambda\n",
        "\n",
        "def rohan(a, b):\n",
        "    return a * b\n",
        "\n",
        "rohan = lambda a, b: a * b\n",
        "rohan(1, 3)\n",
        "\n",
        "rohan = 6\n",
        "\n",
        "rohan(1, 3)"
      ]
    },
    {
      "cell_type": "markdown",
      "metadata": {
        "cell_id": "00061-63692a49-a55d-43c8-8867-aa84e102928d",
        "deepnote_cell_type": "markdown",
        "tags": []
      },
      "source": [
        "# While Loops"
      ]
    },
    {
      "cell_type": "code",
      "execution_count": 74,
      "metadata": {
        "cell_id": "00061-c47f1b76-327b-4c79-b7b1-0ebd5abde402",
        "deepnote_cell_type": "code",
        "deepnote_to_be_reexecuted": true,
        "execution_millis": 24,
        "execution_start": 1619852124486,
        "source_hash": "d3912796",
        "tags": []
      },
      "outputs": [
        {
          "name": "stdout",
          "output_type": "stream",
          "text": [
            "0\n",
            "1\n",
            "2\n",
            "3\n",
            "4\n"
          ]
        }
      ],
      "source": [
        "# while <this condition is true>: execute this code\n",
        "\n",
        "i = 0\n",
        "\n",
        "while i < 5:\n",
        "    print(i)\n",
        "    i = i + 1\n"
      ]
    },
    {
      "cell_type": "code",
      "execution_count": 75,
      "metadata": {
        "cell_id": "00063-84b8d121-f3da-4ad7-b5ac-14184923b123",
        "deepnote_cell_type": "code",
        "deepnote_to_be_reexecuted": true,
        "execution_millis": 1,
        "execution_start": 1619852176571,
        "source_hash": "9186ec77",
        "tags": []
      },
      "outputs": [],
      "source": [
        "i = 5\n",
        "\n",
        "while i < 5:\n",
        "    print(i)\n",
        "    i = i + 1"
      ]
    },
    {
      "cell_type": "code",
      "execution_count": 76,
      "metadata": {
        "cell_id": "00064-6d377e54-b8c8-4622-9937-1531c270eac8",
        "deepnote_cell_type": "code",
        "deepnote_to_be_reexecuted": false,
        "execution_millis": 21,
        "execution_start": 1619854061726,
        "source_hash": "f2a9949b",
        "tags": []
      },
      "outputs": [
        {
          "name": "stdout",
          "output_type": "stream",
          "text": [
            "5\n"
          ]
        }
      ],
      "source": [
        "i = 5\n",
        "\n",
        "while True:\n",
        "    print(i)\n",
        "    if i >= 5:\n",
        "        break\n"
      ]
    },
    {
      "cell_type": "code",
      "execution_count": 79,
      "metadata": {
        "cell_id": "00065-3618d609-0d6e-45c7-a8de-d57a8f2bf6f7",
        "deepnote_cell_type": "code",
        "deepnote_to_be_reexecuted": false,
        "execution_millis": 12590,
        "execution_start": 1619854404951,
        "source_hash": "d9a1424e",
        "tags": []
      },
      "outputs": [],
      "source": [
        "min_length = 2\n",
        "name = input(\"Please enter your name\")\n",
        "\n",
        "while not(len(name) >= min_length and name.isalpha()):\n",
        "    name = input(\"Please enter your name that is more than 2 characters\")\n"
      ]
    },
    {
      "cell_type": "code",
      "execution_count": 80,
      "metadata": {
        "cell_id": "00066-69f73ae0-5edd-4eb7-a823-279ab99574d7",
        "deepnote_cell_type": "code",
        "deepnote_to_be_reexecuted": false,
        "execution_millis": 0,
        "execution_start": 1619854274153,
        "source_hash": "3dfb64ce",
        "tags": []
      },
      "outputs": [],
      "source": [
        "a = 10\n"
      ]
    },
    {
      "cell_type": "markdown",
      "metadata": {
        "cell_id": "00067-39329cd2-126d-406c-8a2c-79f030a87045",
        "deepnote_cell_type": "markdown",
        "tags": []
      },
      "source": [
        "# Loop Breaks and Continue"
      ]
    },
    {
      "cell_type": "code",
      "execution_count": 81,
      "metadata": {
        "cell_id": "00068-ea4420e2-7579-4d43-aaf7-2ef358dc8412",
        "deepnote_cell_type": "code",
        "deepnote_to_be_reexecuted": false,
        "execution_millis": 23,
        "execution_start": 1619854752694,
        "source_hash": "b1a0abef",
        "tags": []
      },
      "outputs": [
        {
          "name": "stdout",
          "output_type": "stream",
          "text": [
            "2\n",
            "4\n",
            "6\n",
            "8\n",
            "10\n"
          ]
        }
      ],
      "source": [
        "a = 1\n",
        "while a < 10:\n",
        "    a += 1 # a = a + 10\n",
        "    if a % 2:\n",
        "        continue\n",
        "    print(a)"
      ]
    },
    {
      "cell_type": "code",
      "execution_count": 82,
      "metadata": {
        "cell_id": "00069-111b9cb3-b8ac-41dd-9cc3-d21fb6e2f04e",
        "deepnote_cell_type": "code",
        "deepnote_to_be_reexecuted": false,
        "execution_millis": 22,
        "execution_start": 1619854946675,
        "source_hash": "38a216b9",
        "tags": []
      },
      "outputs": [
        {
          "name": "stdout",
          "output_type": "stream",
          "text": [
            "['rohan', 'sohan', 'mohan', 'lohan']\n"
          ]
        }
      ],
      "source": [
        "l = [\"rohan\", \"sohan\", \"mohan\"]\n",
        "\n",
        "visitor = \"lohan\"\n",
        "\n",
        "found = False\n",
        "idx = 0\n",
        "\n",
        "while idx < len(l):\n",
        "    if l[idx] == visitor:\n",
        "        found = True\n",
        "        break\n",
        "    idx += 1\n",
        "\n",
        "if not found:\n",
        "    l.append(visitor)\n",
        "print(l)"
      ]
    },
    {
      "cell_type": "code",
      "execution_count": 83,
      "metadata": {
        "cell_id": "00070-2ef8c741-49c3-470c-a165-2893740a9de4",
        "deepnote_cell_type": "code",
        "deepnote_to_be_reexecuted": false,
        "execution_millis": 41,
        "execution_start": 1619855066987,
        "source_hash": "b722debe",
        "tags": []
      },
      "outputs": [
        {
          "name": "stdout",
          "output_type": "stream",
          "text": [
            " I was here in the else\n",
            "['rohan', 'sohan', 'mohan', 'lohan']\n"
          ]
        }
      ],
      "source": [
        "l = [\"rohan\", \"sohan\", \"mohan\"]\n",
        "\n",
        "visitor = \"lohan\"\n",
        "\n",
        "\n",
        "idx = 0\n",
        "\n",
        "while idx < len(l):\n",
        "    if l[idx] == visitor:\n",
        "        print(\" I was here\")\n",
        "        break\n",
        "    idx += 1\n",
        "else: # else is executed if while loop terminated \"without\" hitting the break\n",
        "    print(\" I was here in the else\")\n",
        "    l.append(visitor)\n",
        "\n",
        "print(l)"
      ]
    },
    {
      "cell_type": "code",
      "execution_count": 84,
      "metadata": {
        "cell_id": "00071-47a00ed7-62ff-47e6-82ba-ab91b0bb3152",
        "deepnote_cell_type": "code",
        "deepnote_to_be_reexecuted": false,
        "execution_millis": 26,
        "execution_start": 1619855314140,
        "source_hash": "70149f90",
        "tags": []
      },
      "outputs": [
        {
          "name": "stdout",
          "output_type": "stream",
          "text": [
            "I will have the last say\n"
          ]
        }
      ],
      "source": [
        "a = 10\n",
        "b = 1\n",
        "\n",
        "try:\n",
        "    a / b\n",
        "except ZeroDivisionError:\n",
        "    print(\"Division by Zero\")\n",
        "finally:\n",
        "    print(\"I will have the last say\")\n",
        "\n"
      ]
    },
    {
      "cell_type": "code",
      "execution_count": 85,
      "metadata": {
        "cell_id": "00072-d4c4196d-6a39-459a-94ce-46c49bd8cb04",
        "deepnote_cell_type": "code",
        "deepnote_to_be_reexecuted": false,
        "execution_millis": 21,
        "execution_start": 1619855557674,
        "source_hash": "c59fdd4c",
        "tags": []
      },
      "outputs": [
        {
          "name": "stdout",
          "output_type": "stream",
          "text": [
            "________________\n",
            "a = 1, b = 1 - always have the last say\n",
            "a = 1, b = 1 - main loop\n",
            "________________\n",
            "a = 2, b = 0 - division by 0\n",
            "a = 2, b = 0 - always have the last say\n",
            "________________\n",
            "a = 3, b = -1 - always have the last say\n",
            "a = 3, b = -1 - main loop\n"
          ]
        }
      ],
      "source": [
        "a = 0\n",
        "b = 2\n",
        "\n",
        "while a < 3:\n",
        "    print(\"________________\")\n",
        "    a += 1\n",
        "    b -= 1\n",
        "\n",
        "    try:\n",
        "        res = a / b\n",
        "    except ZeroDivisionError:\n",
        "        print(f'a = {a}, b = {b} - division by 0')\n",
        "        res = 0\n",
        "        continue\n",
        "    finally:\n",
        "        print(f'a = {a}, b = {b} - always have the last say')\n",
        "\n",
        "    print(f'a = {a}, b = {b} - main loop')\n",
        "    "
      ]
    },
    {
      "cell_type": "code",
      "execution_count": 86,
      "metadata": {
        "cell_id": "00073-16d24f1d-b12f-400c-82c2-7f5920a6eb11",
        "deepnote_cell_type": "code",
        "deepnote_to_be_reexecuted": false,
        "execution_millis": 24,
        "execution_start": 1619855658000,
        "source_hash": "2bb2e8b5",
        "tags": []
      },
      "outputs": [
        {
          "name": "stdout",
          "output_type": "stream",
          "text": [
            "________________\n",
            "a = 1, b = 1 - always have the last say\n",
            "a = 1, b = 1 - main loop\n",
            "________________\n",
            "a = 2, b = 0 - division by 0\n",
            "a = 2, b = 0 - always have the last say\n"
          ]
        }
      ],
      "source": [
        "a = 0\n",
        "b = 2\n",
        "\n",
        "while a < 3:\n",
        "    print(\"________________\")\n",
        "    a += 1\n",
        "    b -= 1\n",
        "\n",
        "    try:\n",
        "        res = a / b\n",
        "    except ZeroDivisionError:\n",
        "        print(f'a = {a}, b = {b} - division by 0')\n",
        "        res = 0\n",
        "        break\n",
        "    finally:\n",
        "        print(f'a = {a}, b = {b} - always have the last say')\n",
        "\n",
        "    print(f'a = {a}, b = {b} - main loop')\n",
        "    "
      ]
    },
    {
      "cell_type": "code",
      "execution_count": 87,
      "metadata": {
        "cell_id": "00074-95b5143f-0755-42e1-ad86-950b1672c528",
        "deepnote_cell_type": "code",
        "deepnote_to_be_reexecuted": false,
        "execution_millis": 26,
        "execution_start": 1619855744074,
        "source_hash": "3d16e051",
        "tags": []
      },
      "outputs": [
        {
          "name": "stdout",
          "output_type": "stream",
          "text": [
            "________________\n",
            "a = 1, b = 4 - always have the last say\n",
            "a = 1, b = 4 - main loop\n",
            "________________\n",
            "a = 2, b = 3 - always have the last say\n",
            "a = 2, b = 3 - main loop\n",
            "________________\n",
            "a = 3, b = 2 - always have the last say\n",
            "a = 3, b = 2 - main loop\n",
            "\n",
            "\n",
            "No errors were encountered!\n"
          ]
        }
      ],
      "source": [
        "a = 0\n",
        "b = 5\n",
        "\n",
        "while a < 3:\n",
        "    print(\"________________\")\n",
        "    a += 1\n",
        "    b -= 1\n",
        "    try:\n",
        "        res = a / b\n",
        "    except ZeroDivisionError:\n",
        "        print(f'a = {a}, b = {b} - division by 0')\n",
        "        res = 0\n",
        "        break\n",
        "    finally:\n",
        "        print(f'a = {a}, b = {b} - always have the last say')\n",
        "\n",
        "    print(f'a = {a}, b = {b} - main loop')\n",
        "else:\n",
        "    print('\\n\\nNo errors were encountered!')"
      ]
    },
    {
      "cell_type": "markdown",
      "metadata": {
        "cell_id": "00075-0c368db5-2279-4dfc-9e05-c39e71328d34",
        "deepnote_cell_type": "markdown",
        "tags": []
      },
      "source": [
        "# For Loops"
      ]
    },
    {
      "cell_type": "code",
      "execution_count": 88,
      "metadata": {
        "cell_id": "00075-ef72ad37-e862-40e2-87e5-c2f157f25b7c",
        "deepnote_cell_type": "code",
        "deepnote_to_be_reexecuted": false,
        "execution_millis": 19,
        "execution_start": 1619855909155,
        "source_hash": "408507b2",
        "tags": []
      },
      "outputs": [
        {
          "name": "stdout",
          "output_type": "stream",
          "text": [
            "0\n",
            "1\n",
            "2\n",
            "3\n",
            "4\n"
          ]
        }
      ],
      "source": [
        "# for(int i=0; i < 5; i++){//code }\n",
        "\n",
        "i = 0 \n",
        "while i < 5:\n",
        "    # code block!\n",
        "    print(i)\n",
        "    i += 1\n",
        "del(i)"
      ]
    },
    {
      "cell_type": "code",
      "execution_count": 89,
      "metadata": {
        "cell_id": "00077-bb93b3ca-b1ce-4300-bf85-b7a1e4ca9f2f",
        "deepnote_cell_type": "code",
        "deepnote_to_be_reexecuted": false,
        "execution_millis": 21,
        "execution_start": 1619856066827,
        "source_hash": "12198202",
        "tags": []
      },
      "outputs": [
        {
          "name": "stdout",
          "output_type": "stream",
          "text": [
            "1\n",
            "3\n",
            "4\n"
          ]
        }
      ],
      "source": [
        "for i, j in [(1, 2), (3, 4), (4, 5)]:\n",
        "    print(i)"
      ]
    },
    {
      "cell_type": "code",
      "execution_count": 90,
      "metadata": {
        "cell_id": "00078-aca5b19e-9aa6-4c23-9b65-094376ee3c81",
        "deepnote_cell_type": "code",
        "deepnote_to_be_reexecuted": false,
        "execution_millis": 29,
        "execution_start": 1619856138016,
        "source_hash": "a285b77a",
        "tags": []
      },
      "outputs": [
        {
          "name": "stdout",
          "output_type": "stream",
          "text": [
            "0\n",
            "1\n",
            "2\n",
            "3\n",
            "4\n",
            "5\n",
            "6\n",
            "7\n",
            "8\n",
            "9\n",
            "no break was found\n"
          ]
        }
      ],
      "source": [
        "for i in range(10):\n",
        "    if i == 30:\n",
        "        break\n",
        "    print(i)\n",
        "else:\n",
        "    print(\"no break was found\")"
      ]
    },
    {
      "cell_type": "code",
      "execution_count": 91,
      "metadata": {
        "cell_id": "00079-a27bcd68-10ce-4315-b0fc-c015b2d2fd4b",
        "deepnote_cell_type": "code",
        "deepnote_to_be_reexecuted": false,
        "execution_millis": 22,
        "execution_start": 1619856247741,
        "source_hash": "8100f06c",
        "tags": []
      },
      "outputs": [
        {
          "name": "stdout",
          "output_type": "stream",
          "text": [
            "____________________\n",
            "always running\n",
            "0\n",
            "____________________\n",
            "always running\n",
            "1\n",
            "____________________\n",
            "always running\n",
            "2\n",
            "____________________\n",
            "division by zero! 🙄\n",
            "always running\n"
          ]
        }
      ],
      "source": [
        "for i in range(5):\n",
        "    print(\"____________________\")\n",
        "    try:\n",
        "        10/(i-3)\n",
        "    except ZeroDivisionError:\n",
        "        print(\"division by zero! 🙄\")\n",
        "        break\n",
        "    finally:\n",
        "        print(\"always running\")\n",
        "    print(i)\n",
        "else:\n",
        "    print(\"break was not encountered\")"
      ]
    },
    {
      "cell_type": "code",
      "execution_count": 92,
      "metadata": {
        "cell_id": "00080-dbabf81e-5bc8-4dae-bdb5-06243442aba1",
        "deepnote_cell_type": "code",
        "deepnote_to_be_reexecuted": false,
        "execution_millis": 36,
        "execution_start": 1619856300101,
        "source_hash": "300f35cf",
        "tags": []
      },
      "outputs": [
        {
          "name": "stdout",
          "output_type": "stream",
          "text": [
            "h\n",
            "e\n",
            "l\n",
            "l\n",
            "o\n",
            " \n",
            "t\n",
            "o\n",
            " \n",
            "t\n",
            "h\n",
            "e\n",
            " \n",
            "g\n",
            "a\n",
            "r\n",
            "d\n",
            "i\n",
            "a\n",
            "n\n",
            "s\n",
            " \n",
            "o\n",
            "f\n",
            " \n",
            "g\n",
            "a\n",
            "l\n",
            "a\n",
            "x\n",
            "y\n"
          ]
        }
      ],
      "source": [
        "s = \"hello to the gardians of galaxy\"\n",
        "\n",
        "for c in s:\n",
        "    print(c)"
      ]
    },
    {
      "cell_type": "code",
      "execution_count": 93,
      "metadata": {
        "cell_id": "00081-0f6aec19-0328-4e0e-9592-8327b3c6a094",
        "deepnote_cell_type": "code",
        "deepnote_to_be_reexecuted": false,
        "execution_millis": 44,
        "execution_start": 1619856331257,
        "source_hash": "73655a38",
        "tags": []
      },
      "outputs": [
        {
          "name": "stdout",
          "output_type": "stream",
          "text": [
            "1 h\n",
            "2 e\n",
            "3 l\n",
            "4 l\n",
            "5 o\n",
            "6  \n",
            "7 t\n",
            "8 o\n",
            "9  \n",
            "10 t\n",
            "11 h\n",
            "12 e\n",
            "13  \n",
            "14 g\n",
            "15 a\n",
            "16 r\n",
            "17 d\n",
            "18 i\n",
            "19 a\n",
            "20 n\n",
            "21 s\n",
            "22  \n",
            "23 o\n",
            "24 f\n",
            "25  \n",
            "26 g\n",
            "27 a\n",
            "28 l\n",
            "29 a\n",
            "30 x\n",
            "31 y\n"
          ]
        }
      ],
      "source": [
        "s = \"hello to the gardians of galaxy\"\n",
        "i = 1\n",
        "\n",
        "for c in s:\n",
        "    print(i, c)\n",
        "    i += 1"
      ]
    },
    {
      "cell_type": "code",
      "execution_count": 95,
      "metadata": {
        "cell_id": "00082-b4a2127c-c39d-48ee-a575-c24840209fe7",
        "deepnote_cell_type": "code",
        "deepnote_to_be_reexecuted": false,
        "execution_millis": 35,
        "execution_start": 1619856370499,
        "source_hash": "67a6fb22",
        "tags": []
      },
      "outputs": [
        {
          "name": "stdout",
          "output_type": "stream",
          "text": [
            "0 h\n",
            "1 e\n",
            "2 l\n",
            "3 l\n",
            "4 o\n",
            "5  \n",
            "6 t\n",
            "7 o\n",
            "8  \n",
            "9 t\n",
            "10 h\n",
            "11 e\n",
            "12  \n",
            "13 g\n",
            "14 a\n",
            "15 r\n",
            "16 d\n",
            "17 i\n",
            "18 a\n",
            "19 n\n",
            "20 s\n",
            "21  \n",
            "22 o\n",
            "23 f\n",
            "24  \n",
            "25 g\n",
            "26 a\n",
            "27 l\n",
            "28 a\n",
            "29 x\n",
            "30 y\n"
          ]
        }
      ],
      "source": [
        "s = \"hello to the gardians of galaxy\"\n",
        "\n",
        "for i in range(len(s)):\n",
        "    print(i, s[i])\n"
      ]
    },
    {
      "cell_type": "code",
      "execution_count": 94,
      "metadata": {
        "cell_id": "00083-ce74f08e-6dc1-4a1c-ba2d-beec2cad1c7f",
        "deepnote_cell_type": "code",
        "deepnote_to_be_reexecuted": false,
        "execution_millis": 50,
        "execution_start": 1619856402811,
        "source_hash": "7a3eefcd",
        "tags": []
      },
      "outputs": [
        {
          "name": "stdout",
          "output_type": "stream",
          "text": [
            "0 h\n",
            "1 e\n",
            "2 l\n",
            "3 l\n",
            "4 o\n",
            "5  \n",
            "6 t\n",
            "7 o\n",
            "8  \n",
            "9 t\n",
            "10 h\n",
            "11 e\n",
            "12  \n",
            "13 g\n",
            "14 a\n",
            "15 r\n",
            "16 d\n",
            "17 i\n",
            "18 a\n",
            "19 n\n",
            "20 s\n",
            "21  \n",
            "22 o\n",
            "23 f\n",
            "24  \n",
            "25 g\n",
            "26 a\n",
            "27 l\n",
            "28 a\n",
            "29 x\n",
            "30 y\n"
          ]
        }
      ],
      "source": [
        "s = \"hello to the gardians of galaxy\"\n",
        "\n",
        "for i, c in enumerate(s):\n",
        "    print(i, c)"
      ]
    },
    {
      "cell_type": "markdown",
      "metadata": {
        "cell_id": "00084-588509ef-dc1f-473d-8b58-d146f866d931",
        "deepnote_cell_type": "markdown",
        "tags": []
      },
      "source": [
        "# CLASSES 😈"
      ]
    },
    {
      "cell_type": "code",
      "execution_count": 105,
      "metadata": {
        "cell_id": "00084-28390cbd-e764-405d-bf08-aa34a643885c",
        "deepnote_cell_type": "code",
        "deepnote_to_be_reexecuted": false,
        "execution_millis": 1,
        "execution_start": 1619856755455,
        "source_hash": "260f541c",
        "tags": []
      },
      "outputs": [],
      "source": [
        "class Rectangle:\n",
        "    def __init__ (self, width, height):\n",
        "        self.width = width\n",
        "        self.height = height\n",
        "        print(f'width={self.width}, height={self.height}')"
      ]
    },
    {
      "cell_type": "code",
      "execution_count": 106,
      "metadata": {
        "cell_id": "00086-0654ba67-6058-4757-929b-e2020b08b42c",
        "deepnote_cell_type": "code",
        "deepnote_to_be_reexecuted": false,
        "execution_millis": 2,
        "execution_start": 1619857242470,
        "source_hash": "2bdd8aad",
        "tags": []
      },
      "outputs": [
        {
          "name": "stdout",
          "output_type": "stream",
          "text": [
            "width=100, height=200\n",
            "width=100, height=200\n"
          ]
        }
      ],
      "source": [
        "r1 = Rectangle(100, 200)\n",
        "r2 = Rectangle(100, 200)"
      ]
    },
    {
      "cell_type": "code",
      "execution_count": 107,
      "metadata": {
        "cell_id": "00087-33b9c641-bc5e-4d27-91ce-630ea56f6788",
        "deepnote_cell_type": "code",
        "deepnote_to_be_reexecuted": false,
        "execution_millis": 27,
        "execution_start": 1619857244380,
        "source_hash": "abb6b6c9",
        "tags": []
      },
      "outputs": [
        {
          "data": {
            "text/plain": [
              "(100, 100)"
            ]
          },
          "execution_count": 107,
          "metadata": {},
          "output_type": "execute_result"
        }
      ],
      "source": [
        "r1.width, r2.width"
      ]
    },
    {
      "cell_type": "code",
      "execution_count": 108,
      "metadata": {
        "cell_id": "00088-b7d1d8b9-4e3b-46b4-9f35-2b2b08f3ec09",
        "deepnote_cell_type": "code",
        "deepnote_to_be_reexecuted": false,
        "execution_millis": 37,
        "execution_start": 1619857252692,
        "source_hash": "1f1675b9",
        "tags": []
      },
      "outputs": [
        {
          "data": {
            "text/plain": [
              "(2041178092832, 2041178094224)"
            ]
          },
          "execution_count": 108,
          "metadata": {},
          "output_type": "execute_result"
        }
      ],
      "source": [
        "id(r1), id(r2)"
      ]
    },
    {
      "cell_type": "code",
      "execution_count": 109,
      "metadata": {
        "cell_id": "00089-1b08e8cf-5d10-4df2-bfb5-50cf468fc658",
        "deepnote_cell_type": "code",
        "deepnote_to_be_reexecuted": false,
        "execution_millis": 20,
        "execution_start": 1619857291446,
        "source_hash": "662f746c",
        "tags": []
      },
      "outputs": [
        {
          "name": "stdout",
          "output_type": "stream",
          "text": [
            "width=100, height=200\n",
            "2041178093984\n",
            "width=200, height=100\n",
            "2041178092832\n",
            "width=200, height=100\n",
            "2041178092832\n"
          ]
        }
      ],
      "source": [
        "r1 = Rectangle(100, 200)\n",
        "print(id(r1))\n",
        "r1 = Rectangle(200, 100)\n",
        "print(id(r1))\n",
        "r2 = Rectangle(200, 100)\n",
        "print(id(r1))"
      ]
    },
    {
      "cell_type": "code",
      "execution_count": 110,
      "metadata": {
        "cell_id": "00090-6974ccc8-09dc-42c0-8381-df6b0c221348",
        "deepnote_cell_type": "code",
        "deepnote_to_be_reexecuted": false,
        "execution_millis": 0,
        "execution_start": 1619857753210,
        "source_hash": "395d5eb7",
        "tags": []
      },
      "outputs": [],
      "source": [
        "class Rectangle:\n",
        "    def __init__ (self, width, height):\n",
        "        self.width = width\n",
        "        self.height = height\n",
        "\n",
        "    def area(self):\n",
        "        return self.width * self.height\n",
        "\n",
        "    def perimeter(self):\n",
        "        return 2 *  ( self.width + self.height)"
      ]
    },
    {
      "cell_type": "code",
      "execution_count": 111,
      "metadata": {
        "cell_id": "00091-69bb20ce-004e-4da8-aa97-514ee2101a44",
        "deepnote_cell_type": "code",
        "deepnote_to_be_reexecuted": false,
        "execution_millis": 1,
        "execution_start": 1619857753438,
        "source_hash": "fcbebabd",
        "tags": []
      },
      "outputs": [],
      "source": [
        "r1 = Rectangle(10, 20)"
      ]
    },
    {
      "cell_type": "code",
      "execution_count": 112,
      "metadata": {
        "cell_id": "00092-f9a42460-ace6-4fc6-97de-6aef9fec4f74",
        "deepnote_cell_type": "code",
        "deepnote_to_be_reexecuted": false,
        "execution_millis": 23,
        "execution_start": 1619857753656,
        "source_hash": "c72d26e7",
        "tags": []
      },
      "outputs": [
        {
          "data": {
            "text/plain": [
              "200"
            ]
          },
          "execution_count": 112,
          "metadata": {},
          "output_type": "execute_result"
        }
      ],
      "source": [
        "r1.area()"
      ]
    },
    {
      "cell_type": "code",
      "execution_count": 113,
      "metadata": {
        "cell_id": "00093-0b816720-1fe1-42ab-b896-68f88a90aa9b",
        "deepnote_cell_type": "code",
        "deepnote_to_be_reexecuted": false,
        "execution_millis": 30,
        "execution_start": 1619857753827,
        "source_hash": "ed359c81",
        "tags": []
      },
      "outputs": [
        {
          "data": {
            "text/plain": [
              "'10'"
            ]
          },
          "execution_count": 113,
          "metadata": {},
          "output_type": "execute_result"
        }
      ],
      "source": [
        "str(10)"
      ]
    },
    {
      "cell_type": "code",
      "execution_count": 114,
      "metadata": {
        "cell_id": "00094-08c96d62-3641-47fa-ab3d-6787e60b0b6a",
        "deepnote_cell_type": "code",
        "deepnote_to_be_reexecuted": false,
        "execution_millis": 36,
        "execution_start": 1619857754035,
        "source_hash": "71dee5af",
        "tags": []
      },
      "outputs": [
        {
          "data": {
            "text/plain": [
              "'<__main__.Rectangle object at 0x000001DB3FB1F730>'"
            ]
          },
          "execution_count": 114,
          "metadata": {},
          "output_type": "execute_result"
        }
      ],
      "source": [
        "str(r1)"
      ]
    },
    {
      "cell_type": "code",
      "execution_count": null,
      "metadata": {
        "cell_id": "00096-c41e6331-0a96-490e-9e48-baebebadda59",
        "deepnote_cell_type": "code",
        "deepnote_to_be_reexecuted": false,
        "execution_millis": 23,
        "execution_start": 1619857754357,
        "source_hash": "27426db3",
        "tags": []
      },
      "outputs": [
        {
          "name": "stdout",
          "output_type": "stream",
          "text": [
            "Help on Rectangle in module __main__ object:\n",
            "\n",
            "class Rectangle(builtins.object)\n",
            " |  Rectangle(width, height)\n",
            " |  \n",
            " |  Methods defined here:\n",
            " |  \n",
            " |  __init__(self, width, height)\n",
            " |      Initialize self.  See help(type(self)) for accurate signature.\n",
            " |  \n",
            " |  area(self)\n",
            " |  \n",
            " |  perimeter(self)\n",
            " |  \n",
            " |  ----------------------------------------------------------------------\n",
            " |  Data descriptors defined here:\n",
            " |  \n",
            " |  __dict__\n",
            " |      dictionary for instance variables (if defined)\n",
            " |  \n",
            " |  __weakref__\n",
            " |      list of weak references to the object (if defined)\n",
            "\n"
          ]
        }
      ],
      "source": [
        "help(r1)"
      ]
    },
    {
      "cell_type": "code",
      "execution_count": 115,
      "metadata": {
        "cell_id": "00096-153eb66b-b16d-4fab-968d-05f940bd8bf4",
        "deepnote_cell_type": "code",
        "deepnote_to_be_reexecuted": false,
        "execution_millis": 27,
        "execution_start": 1619857773221,
        "source_hash": "3e901131",
        "tags": []
      },
      "outputs": [
        {
          "data": {
            "text/plain": [
              "['__class__',\n",
              " '__delattr__',\n",
              " '__dict__',\n",
              " '__dir__',\n",
              " '__doc__',\n",
              " '__eq__',\n",
              " '__format__',\n",
              " '__ge__',\n",
              " '__getattribute__',\n",
              " '__gt__',\n",
              " '__hash__',\n",
              " '__init__',\n",
              " '__init_subclass__',\n",
              " '__le__',\n",
              " '__lt__',\n",
              " '__module__',\n",
              " '__ne__',\n",
              " '__new__',\n",
              " '__reduce__',\n",
              " '__reduce_ex__',\n",
              " '__repr__',\n",
              " '__setattr__',\n",
              " '__sizeof__',\n",
              " '__str__',\n",
              " '__subclasshook__',\n",
              " '__weakref__',\n",
              " 'area',\n",
              " 'height',\n",
              " 'perimeter',\n",
              " 'width']"
            ]
          },
          "execution_count": 115,
          "metadata": {},
          "output_type": "execute_result"
        }
      ],
      "source": [
        "dir(r1)"
      ]
    },
    {
      "cell_type": "code",
      "execution_count": 120,
      "metadata": {
        "cell_id": "00097-c22bbb4c-a711-463c-a4ad-fa82b9fd1133",
        "deepnote_cell_type": "code",
        "deepnote_to_be_reexecuted": false,
        "execution_millis": 0,
        "execution_start": 1619857942954,
        "source_hash": "2b4b7551",
        "tags": []
      },
      "outputs": [],
      "source": [
        "class Rectangle:\n",
        "    def __init__ (self, width, height):\n",
        "        self.width = width\n",
        "        self.height = height\n",
        "\n",
        "    def area(self):\n",
        "        return self.width * self.height\n",
        "\n",
        "    def perimeter(self):\n",
        "        return 2 *  ( self.width + self.height)\n",
        "\n",
        "    def __str__(self):\n",
        "        return \"This is rectangle of width=\"+str(self.width)+\", height=\"+str(self.height)+\" stored: \" + str(id(self))"
      ]
    },
    {
      "cell_type": "code",
      "execution_count": 121,
      "metadata": {
        "cell_id": "00098-dab2df0d-bf3c-4b8c-80e0-f47e55bb78c9",
        "deepnote_cell_type": "code",
        "deepnote_to_be_reexecuted": false,
        "execution_millis": 31,
        "execution_start": 1619857943112,
        "source_hash": "f4288eca",
        "tags": []
      },
      "outputs": [
        {
          "data": {
            "text/plain": [
              "('This is rectangle of width=10, height=20 stored: 2041178029552',\n",
              " 2041178029552)"
            ]
          },
          "execution_count": 121,
          "metadata": {},
          "output_type": "execute_result"
        }
      ],
      "source": [
        "r1 = Rectangle(10, 20)\n",
        "str(r1), id(r1)"
      ]
    },
    {
      "cell_type": "code",
      "execution_count": 122,
      "metadata": {
        "cell_id": "00099-29219af9-35dd-4c9a-8762-86a125b45c57",
        "deepnote_cell_type": "code",
        "deepnote_to_be_reexecuted": false,
        "execution_millis": 36,
        "execution_start": 1619857980946,
        "source_hash": "1f262162",
        "tags": []
      },
      "outputs": [
        {
          "data": {
            "text/plain": [
              "False"
            ]
          },
          "execution_count": 122,
          "metadata": {},
          "output_type": "execute_result"
        }
      ],
      "source": [
        "r1 = Rectangle(10, 20)\n",
        "r2 = Rectangle(10, 20)\n",
        "\n",
        "r1 == r2"
      ]
    },
    {
      "cell_type": "code",
      "execution_count": 123,
      "metadata": {
        "cell_id": "00100-f1586560-4fe0-4b39-8528-594d82380ad5",
        "deepnote_cell_type": "code",
        "deepnote_to_be_reexecuted": false,
        "execution_millis": 5,
        "execution_start": 1619858149349,
        "source_hash": "616520d2",
        "tags": []
      },
      "outputs": [],
      "source": [
        "class Rectangle:\n",
        "    def __init__ (self, width, height):\n",
        "        self.width = width\n",
        "        self.height = height\n",
        "\n",
        "    def area(self):\n",
        "        return self.width * self.height\n",
        "\n",
        "    def perimeter(self):\n",
        "        return 2 *  ( self.width + self.height)\n",
        "\n",
        "    def __str__(self):\n",
        "        return \"This is rectangle stored: \" + str(id(self))\n",
        "\n",
        "    def __eq__(self, other):\n",
        "        print(f'self={self}, other={other}')\n",
        "        if isinstance(other, Rectangle):\n",
        "            return (self.width, self.height) == (other.width, other.height)\n",
        "        else:\n",
        "            return False\n"
      ]
    },
    {
      "cell_type": "code",
      "execution_count": 124,
      "metadata": {
        "cell_id": "00101-c90478df-a629-4001-9e65-7185a398a8ab",
        "deepnote_cell_type": "code",
        "deepnote_to_be_reexecuted": false,
        "execution_millis": 21,
        "execution_start": 1619858162238,
        "source_hash": "1f262162",
        "tags": []
      },
      "outputs": [
        {
          "name": "stdout",
          "output_type": "stream",
          "text": [
            "self=This is rectangle stored: 2041208191296, other=This is rectangle stored: 2041208192112\n"
          ]
        },
        {
          "data": {
            "text/plain": [
              "True"
            ]
          },
          "execution_count": 124,
          "metadata": {},
          "output_type": "execute_result"
        }
      ],
      "source": [
        "r1 = Rectangle(10, 20)\n",
        "r2 = Rectangle(10, 20)\n",
        "\n",
        "r1 == r2"
      ]
    },
    {
      "cell_type": "code",
      "execution_count": 125,
      "metadata": {
        "cell_id": "00102-6a848ac6-e9e2-4842-9729-3c4af29b59a7",
        "deepnote_cell_type": "code",
        "deepnote_to_be_reexecuted": false,
        "execution_millis": 32,
        "execution_start": 1619858171007,
        "source_hash": "3d19995c",
        "tags": []
      },
      "outputs": [
        {
          "data": {
            "text/plain": [
              "False"
            ]
          },
          "execution_count": 125,
          "metadata": {},
          "output_type": "execute_result"
        }
      ],
      "source": [
        "r1 is r2"
      ]
    },
    {
      "cell_type": "code",
      "execution_count": 126,
      "metadata": {
        "cell_id": "00103-80d1e853-1f7a-4a60-8352-5ba80b59ceba",
        "deepnote_cell_type": "code",
        "deepnote_to_be_reexecuted": false,
        "execution_millis": 39,
        "execution_start": 1619858211117,
        "source_hash": "19c01702",
        "tags": []
      },
      "outputs": [
        {
          "name": "stdout",
          "output_type": "stream",
          "text": [
            "2041096727120 2041096727120\n",
            "True\n"
          ]
        }
      ],
      "source": [
        "a = 10\n",
        "b = 10\n",
        "print(id(a), id(b))\n",
        "print(a is b)"
      ]
    },
    {
      "cell_type": "code",
      "execution_count": 127,
      "metadata": {
        "cell_id": "00104-9b3c5a29-13f7-42ac-97ac-4993c827404f",
        "deepnote_cell_type": "code",
        "deepnote_to_be_reexecuted": false,
        "execution_millis": 1,
        "execution_start": 1619858892067,
        "source_hash": "5c656262",
        "tags": []
      },
      "outputs": [],
      "source": [
        "class Rectangle:\n",
        "    def __init__(self, width, height):\n",
        "        self.width = width\n",
        "        self.height = height\n",
        "        \n",
        "    def area(self):\n",
        "        return self.width * self.height\n",
        "    \n",
        "    def perimeter(self):\n",
        "        return 2 * (self.width + self.height)\n",
        "    \n",
        "    def __str__(self):\n",
        "        return 'Rectangle (width={0}, height={1})'.format(self.width, self.height)\n",
        "    \n",
        "    def __repr__(self):\n",
        "        return 'Rectangle({0}, {1})'.format(self.width, self.height)\n",
        "    \n",
        "    def __eq__(self, other):\n",
        "        if isinstance(other, Rectangle):\n",
        "            return (self.width, self.height) == (other.width, other.height)\n",
        "        else:\n",
        "            return False\n",
        "    \n",
        "    def __lt__(self, other):\n",
        "        if isinstance(other, Rectangle):\n",
        "            return self.area() < other.area()\n",
        "        else:\n",
        "            return NotImplemented"
      ]
    },
    {
      "cell_type": "code",
      "execution_count": 128,
      "metadata": {
        "cell_id": "00105-8aa8777a-e18a-481d-9448-70f0f16a8ab9",
        "deepnote_cell_type": "code",
        "deepnote_to_be_reexecuted": false,
        "execution_millis": 37,
        "execution_start": 1619858892068,
        "source_hash": "7413e70f",
        "tags": []
      },
      "outputs": [
        {
          "data": {
            "text/plain": [
              "False"
            ]
          },
          "execution_count": 128,
          "metadata": {},
          "output_type": "execute_result"
        }
      ],
      "source": [
        "r1 = Rectangle(100, 200)\n",
        "r2 = Rectangle(10, 20)\n",
        "r1 < r2"
      ]
    },
    {
      "cell_type": "code",
      "execution_count": 129,
      "metadata": {
        "cell_id": "00106-07b6cbf7-e1d8-4a83-9dbd-2704d03bd4d7",
        "deepnote_cell_type": "code",
        "deepnote_to_be_reexecuted": false,
        "execution_millis": 22,
        "execution_start": 1619858892107,
        "source_hash": "ccf291c6",
        "tags": []
      },
      "outputs": [
        {
          "data": {
            "text/plain": [
              "False"
            ]
          },
          "execution_count": 129,
          "metadata": {},
          "output_type": "execute_result"
        }
      ],
      "source": [
        "r1 < r2"
      ]
    },
    {
      "cell_type": "code",
      "execution_count": null,
      "metadata": {
        "cell_id": "00107-cecd6a04-42d1-40f7-bd75-3a1fa4b5e550",
        "deepnote_cell_type": "code",
        "tags": []
      },
      "outputs": [],
      "source": []
    },
    {
      "cell_type": "markdown",
      "metadata": {
        "created_in_deepnote_cell": true,
        "deepnote_cell_type": "markdown",
        "tags": []
      },
      "source": [
        "<a style='text-decoration:none;line-height:16px;display:flex;color:#5B5B62;padding:10px;justify-content:end;' href='https://deepnote.com?utm_source=created-in-deepnote-cell&projectId=b9a25f9c-2799-4505-862f-b13b0b574d81' target=\"_blank\">\n",
        "<img alt='Created in deepnote.com' style='display:inline;max-height:16px;margin:0px;margin-right:7.5px;' src='data:image/svg+xml;base64,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' > </img>\n",
        "Created in <span style='font-weight:600;margin-left:4px;'>Deepnote</span></a>"
      ]
    }
  ],
  "metadata": {
    "deepnote": {
      "is_reactive": false
    },
    "deepnote_execution_queue": [],
    "deepnote_notebook_id": "0b148b6e-4e06-4fe2-8555-9cc43da3c607",
    "interpreter": {
      "hash": "ad2bdc8ecc057115af97d19610ffacc2b4e99fae6737bb82f5d7fb13d2f2c186"
    },
    "kernelspec": {
      "display_name": "Python 3.9.7 ('base')",
      "language": "python",
      "name": "python3"
    },
    "language_info": {
      "codemirror_mode": {
        "name": "ipython",
        "version": 3
      },
      "file_extension": ".py",
      "mimetype": "text/x-python",
      "name": "python",
      "nbconvert_exporter": "python",
      "pygments_lexer": "ipython3",
      "version": "3.9.7"
    },
    "orig_nbformat": 2
  },
  "nbformat": 4,
  "nbformat_minor": 2
}
